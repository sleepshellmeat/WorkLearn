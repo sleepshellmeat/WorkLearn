{
 "cells": [
  {
   "cell_type": "markdown",
   "metadata": {},
   "source": [
    "# numpy get started"
   ]
  },
  {
   "cell_type": "markdown",
   "metadata": {},
   "source": [
    "导入numpy库，并查看numpy版本"
   ]
  },
  {
   "cell_type": "code",
   "execution_count": 10,
   "metadata": {},
   "outputs": [
    {
     "data": {
      "text/plain": [
       "'1.13.0'"
      ]
     },
     "execution_count": 10,
     "metadata": {},
     "output_type": "execute_result"
    }
   ],
   "source": [
    "import numpy as np\n",
    "np.__version__"
   ]
  },
  {
   "cell_type": "markdown",
   "metadata": {},
   "source": [
    "## 一、创建ndarray"
   ]
  },
  {
   "cell_type": "markdown",
   "metadata": {},
   "source": [
    "### 1. 使用np.array()由python list创建"
   ]
  },
  {
   "cell_type": "markdown",
   "metadata": {},
   "source": [
    "参数为列表：\n",
    "[1, 4, 2, 5, 3]"
   ]
  },
  {
   "cell_type": "markdown",
   "metadata": {},
   "source": [
    "注意：\n",
    "- numpy默认ndarray的所有元素的类型是相同的\n",
    "- 如果传进来的列表中包含不同的类型，则统一为同一类型，优先级：str>float>int"
   ]
  },
  {
   "cell_type": "code",
   "execution_count": null,
   "metadata": {
    "collapsed": true
   },
   "outputs": [],
   "source": [
    "np"
   ]
  },
  {
   "cell_type": "markdown",
   "metadata": {},
   "source": [
    "### 2. 使用np的routines函数创建"
   ]
  },
  {
   "cell_type": "markdown",
   "metadata": {},
   "source": [
    "包含以下常见创建方法：\n",
    "\n",
    "1) np.ones(shape, dtype=None, order='C')"
   ]
  },
  {
   "cell_type": "markdown",
   "metadata": {},
   "source": [
    "2) np.zeros(shape, dtype=float, order='C')"
   ]
  },
  {
   "cell_type": "markdown",
   "metadata": {},
   "source": [
    "3) np.full(shape, fill_value, dtype=None, order='C')"
   ]
  },
  {
   "cell_type": "markdown",
   "metadata": {},
   "source": [
    "4) np.eye(N, M=None, k=0, dtype=float)"
   ]
  },
  {
   "cell_type": "markdown",
   "metadata": {},
   "source": [
    "5) np.linspace(start, stop, num=50, endpoint=True, retstep=False, dtype=None)"
   ]
  },
  {
   "cell_type": "markdown",
   "metadata": {},
   "source": [
    "6) np.arange([start, ]stop, [step, ]dtype=None)"
   ]
  },
  {
   "cell_type": "markdown",
   "metadata": {},
   "source": [
    "7) np.random.randint(low, high=None, size=None, dtype='l')"
   ]
  },
  {
   "cell_type": "markdown",
   "metadata": {},
   "source": [
    "8) np.random.randn(d0, d1, ..., dn)"
   ]
  },
  {
   "cell_type": "markdown",
   "metadata": {},
   "source": [
    "9) np.random.random(size=None)"
   ]
  },
  {
   "cell_type": "markdown",
   "metadata": {},
   "source": [
    "## 二、ndarray的属性"
   ]
  },
  {
   "cell_type": "markdown",
   "metadata": {},
   "source": [
    "4个必记参数：\n",
    "ndim：维度\n",
    "shape：形状（各维度的长度）\n",
    "size：总长度\n",
    "\n",
    "dtype：元素类型\n"
   ]
  },
  {
   "cell_type": "markdown",
   "metadata": {},
   "source": [
    "## 三、ndarray的基本操作"
   ]
  },
  {
   "cell_type": "markdown",
   "metadata": {},
   "source": [
    "### 1. 索引\n",
    "一维与列表完全一致\n",
    "多维时同理"
   ]
  },
  {
   "cell_type": "markdown",
   "metadata": {},
   "source": [
    "### 2. 切片\n",
    "一维与列表完全一致\n",
    "多维时同理"
   ]
  },
  {
   "cell_type": "markdown",
   "metadata": {},
   "source": [
    "### 3. 变形\n",
    "使用reshape函数，注意参数是一个tuple！"
   ]
  },
  {
   "cell_type": "markdown",
   "metadata": {},
   "source": [
    "### 4. 级联\n",
    "1. np.concatenate()\n",
    "级联需要注意的点：\n",
    "- 级联的参数是列表：一定要加中括号\n",
    "- 维度必须相同\n",
    "- 形状相符\n",
    "- 【重点】级联的方向默认是shape这个tuple的第一个值所代表的维度方向\n",
    "- 可通过axis参数改变级联的方向"
   ]
  },
  {
   "cell_type": "markdown",
   "metadata": {},
   "source": [
    "2. np.hstack与np.vstack\n",
    "水平级联与垂直级联"
   ]
  },
  {
   "cell_type": "markdown",
   "metadata": {},
   "source": [
    "### 5. 切分"
   ]
  },
  {
   "cell_type": "markdown",
   "metadata": {},
   "source": [
    "与级联类似，三个函数完成切分工作：\n",
    "- np.split\n",
    "- np.vsplit\n",
    "- np.hsplit"
   ]
  },
  {
   "cell_type": "markdown",
   "metadata": {},
   "source": [
    "### 6. 副本\n",
    "所有赋值运算不会为ndarray的任何元素创建副本。对赋值后的对象的操作也对原来的对象生效。"
   ]
  },
  {
   "cell_type": "markdown",
   "metadata": {},
   "source": [
    "可使用copy()函数创建副本"
   ]
  },
  {
   "cell_type": "markdown",
   "metadata": {},
   "source": [
    "## 四、ndarray的聚合操作"
   ]
  },
  {
   "cell_type": "markdown",
   "metadata": {},
   "source": [
    "### 1. 求和np.sum"
   ]
  },
  {
   "cell_type": "markdown",
   "metadata": {},
   "source": [
    "### 2. 最大最小值：np.max/ np.min\n",
    "同理"
   ]
  },
  {
   "cell_type": "markdown",
   "metadata": {},
   "source": [
    "### 3. 其他聚合操作\n",
    "    Function Name\tNaN-safe Version\tDescription\n",
    "    np.sum\tnp.nansum\tCompute sum of elements\n",
    "    np.prod\tnp.nanprod\tCompute product of elements\n",
    "    np.mean\tnp.nanmean\tCompute mean of elements\n",
    "    np.std\tnp.nanstd\tCompute standard deviation\n",
    "    np.var\tnp.nanvar\tCompute variance\n",
    "    np.min\tnp.nanmin\tFind minimum value\n",
    "    np.max\tnp.nanmax\tFind maximum value\n",
    "    np.argmin\tnp.nanargmin\tFind index of minimum value\n",
    "    np.argmax\tnp.nanargmax\tFind index of maximum value\n",
    "    np.median\tnp.nanmedian\tCompute median of elements\n",
    "    np.percentile\tnp.nanpercentile\tCompute rank-based statistics of elements\n",
    "    np.any\tN/A\tEvaluate whether any elements are true\n",
    "    np.all\tN/A\tEvaluate whether all elements are true"
   ]
  },
  {
   "cell_type": "markdown",
   "metadata": {},
   "source": [
    "np.sum 和 np.nansum 的区别\n",
    "nan not a number"
   ]
  },
  {
   "cell_type": "markdown",
   "metadata": {},
   "source": [
    "#### 操作文件\n",
    "\n",
    "使用pandas打开文件president_heights.csv\n",
    "获取文件中的数据"
   ]
  },
  {
   "cell_type": "markdown",
   "metadata": {},
   "source": [
    "## 五、ndarray的矩阵操作"
   ]
  },
  {
   "cell_type": "markdown",
   "metadata": {},
   "source": [
    "### 1. 基本矩阵操作"
   ]
  },
  {
   "cell_type": "markdown",
   "metadata": {},
   "source": [
    "1) 算术运算符：\n",
    "- 加减乘除"
   ]
  },
  {
   "cell_type": "markdown",
   "metadata": {},
   "source": [
    "2) 矩阵积"
   ]
  },
  {
   "cell_type": "markdown",
   "metadata": {},
   "source": [
    "### 2. 广播机制"
   ]
  },
  {
   "cell_type": "markdown",
   "metadata": {},
   "source": [
    "【重要】ndarray广播机制的两条规则\n",
    "- 规则一：为缺失的维度补1\n",
    "- 规则二：假定缺失元素用已有值填充\n",
    "\n",
    "\n",
    "例1：\n",
    "m = np.ones((2, 3))\n",
    "a = np.arange(3)\n",
    "求M+a"
   ]
  },
  {
   "cell_type": "markdown",
   "metadata": {},
   "source": [
    "例2：\n",
    "a = np.arange(3).reshape((3, 1))\n",
    "b = np.arange(3)\n",
    "求a+b"
   ]
  },
  {
   "cell_type": "markdown",
   "metadata": {},
   "source": [
    "习题\n",
    "a = np.ones((4, 1))\n",
    "b = np.arange(4)\n",
    "求a+b"
   ]
  },
  {
   "cell_type": "markdown",
   "metadata": {
    "collapsed": true
   },
   "source": [
    "## 六、ndarray的排序"
   ]
  },
  {
   "cell_type": "markdown",
   "metadata": {},
   "source": [
    "小测验：\n",
    "使用以上所学numpy的知识，对一个ndarray对象进行选择排序。\n",
    "def selectSort(x):\n",
    "代码越短越好（最少可三行）"
   ]
  },
  {
   "cell_type": "markdown",
   "metadata": {
    "collapsed": true
   },
   "source": [
    "### 1. 快速排序\n",
    "np.sort()与ndarray.sort()都可以，但有区别：\n",
    "- np.sort()不改变输入\n",
    "- ndarray.sort()本地处理，不占用空间，但改变输入"
   ]
  },
  {
   "cell_type": "markdown",
   "metadata": {},
   "source": [
    "### 2. 部分排序\n",
    "np.partition(a,k)\n",
    "\n",
    "有的时候我们不是对全部数据感兴趣，我们可能只对最小或最大的一部分感兴趣。\n",
    "- 当k为正时，我们想要得到最小的k个数\n",
    "- 当k为负时，我们想要得到最大的k个数"
   ]
  }
 ],
 "metadata": {
  "kernelspec": {
   "display_name": "Python 3",
   "language": "python",
   "name": "python3"
  },
  "language_info": {
   "codemirror_mode": {
    "name": "ipython",
    "version": 3
   },
   "file_extension": ".py",
   "mimetype": "text/x-python",
   "name": "python",
   "nbconvert_exporter": "python",
   "pygments_lexer": "ipython3",
   "version": "3.5.2"
  }
 },
 "nbformat": 4,
 "nbformat_minor": 1
}
