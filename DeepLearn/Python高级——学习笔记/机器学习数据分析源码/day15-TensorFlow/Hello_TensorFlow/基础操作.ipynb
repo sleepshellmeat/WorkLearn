{
 "cells": [
  {
   "cell_type": "code",
   "execution_count": 6,
   "metadata": {
    "collapsed": true
   },
   "outputs": [],
   "source": [
    "import tensorflow as tf"
   ]
  },
  {
   "cell_type": "code",
   "execution_count": 11,
   "metadata": {
    "collapsed": true
   },
   "outputs": [],
   "source": [
    "a = tf.constant(10,dtype='float64')\n",
    "b = tf.constant(100,dtype='float64')"
   ]
  },
  {
   "cell_type": "code",
   "execution_count": 13,
   "metadata": {},
   "outputs": [
    {
     "name": "stdout",
     "output_type": "stream",
     "text": [
      "1000.0\n",
      "两数相除的结果：10\n",
      "两数相除与两数相乘进行相加的结果：1010\n",
      "512\n"
     ]
    }
   ],
   "source": [
    "#声明算法\n",
    "#乘法的任务\n",
    "mul = tf.multiply(a,b)\n",
    "\n",
    "#除法任务\n",
    "div = tf.divide(b,a)\n",
    "\n",
    "add = tf.add(mul,div)\n",
    "\n",
    "sub = tf.subtract(1024,512)\n",
    "\n",
    "#执行任务Session\n",
    "with tf.Session() as sess:\n",
    "    print(sess.run(mul))\n",
    "    print('两数相除的结果：%d'%(sess.run(div)))\n",
    "    print('两数相除与两数相乘进行相加的结果：%d'%(sess.run(add)))\n",
    "    print(sess.run(sub))"
   ]
  },
  {
   "cell_type": "code",
   "execution_count": 18,
   "metadata": {
    "scrolled": true
   },
   "outputs": [
    {
     "name": "stdout",
     "output_type": "stream",
     "text": [
      "[[1 3]\n",
      " [1 2]\n",
      " [1 2]] [[5 6 1]\n",
      " [2 7 9]]\n"
     ]
    },
    {
     "data": {
      "text/plain": [
       "array([[11, 27, 28],\n",
       "       [ 9, 20, 19],\n",
       "       [ 9, 20, 19]])"
      ]
     },
     "execution_count": 18,
     "metadata": {},
     "output_type": "execute_result"
    }
   ],
   "source": [
    "#矩阵运算\n",
    "import numpy as np\n",
    "n1 = np.random.randint(0,10,size = (3,2))\n",
    "n2 = np.random.randint(0,10,size = (2,3))\n",
    "# m1 = tf.constant()\n",
    "print(n1,n2)\n",
    "np.dot(n1,n2)"
   ]
  },
  {
   "cell_type": "code",
   "execution_count": 20,
   "metadata": {},
   "outputs": [
    {
     "name": "stdout",
     "output_type": "stream",
     "text": [
      "[[11 27 28]\n",
      " [ 9 20 19]\n",
      " [ 9 20 19]]\n"
     ]
    }
   ],
   "source": [
    "tf_n1 = tf.constant(n1,dtype='int32')\n",
    "tf_n2 = tf.constant(n2,dtype='int32')\n",
    "\n",
    "\n",
    "matmul = tf.matmul(tf_n1,tf_n2)\n",
    "\n",
    "with tf.Session() as sess:\n",
    "    print(sess.run(matmul))"
   ]
  }
 ],
 "metadata": {
  "kernelspec": {
   "display_name": "Python 3",
   "language": "python",
   "name": "python3"
  },
  "language_info": {
   "codemirror_mode": {
    "name": "ipython",
    "version": 3
   },
   "file_extension": ".py",
   "mimetype": "text/x-python",
   "name": "python",
   "nbconvert_exporter": "python",
   "pygments_lexer": "ipython3",
   "version": "3.5.2"
  }
 },
 "nbformat": 4,
 "nbformat_minor": 2
}
