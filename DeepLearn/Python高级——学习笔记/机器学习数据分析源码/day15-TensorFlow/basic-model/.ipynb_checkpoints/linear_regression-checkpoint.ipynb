{
 "cells": [
  {
   "cell_type": "markdown",
   "metadata": {},
   "source": [
    "# Linear Regression Example\n",
    "\n",
    "使用TensorFlow实现线性回归.\n",
    "\n"
   ]
  },
  {
   "cell_type": "markdown",
   "metadata": {},
   "source": [
    "导包"
   ]
  },
  {
   "cell_type": "code",
   "execution_count": 1,
   "metadata": {
    "collapsed": true
   },
   "outputs": [],
   "source": [
    "import tensorflow as tf\n",
    "import numpy as np\n",
    "import matplotlib.pyplot as plt\n",
    "%matplotlib inline\n",
    "rng = np.random"
   ]
  },
  {
   "cell_type": "markdown",
   "metadata": {},
   "source": [
    "定义训练次数learning_epochs，卷曲神经的学习率learning_rate  \n",
    "显示打印数据的步幅display_step"
   ]
  },
  {
   "cell_type": "code",
   "execution_count": 30,
   "metadata": {
    "collapsed": true
   },
   "outputs": [],
   "source": [
    "# 参数\n",
    "learning_rate = 0.01\n",
    "training_epochs = 1000\n",
    "display_step = 50"
   ]
  },
  {
   "cell_type": "markdown",
   "metadata": {},
   "source": [
    "生成训练数据"
   ]
  },
  {
   "cell_type": "code",
   "execution_count": 37,
   "metadata": {
    "collapsed": true
   },
   "outputs": [],
   "source": [
    "train_X = np.linspace(0,10,num= 20)+np.random.randn(20)\n",
    "train_Y = np.linspace(1,4,num = 20)+np.random.randn(20)\n",
    "n_samples = train_X.shape[0]"
   ]
  },
  {
   "cell_type": "code",
   "execution_count": 5,
   "metadata": {
    "collapsed": true
   },
   "outputs": [
    {
     "data": {
      "text/plain": [
       "<matplotlib.collections.PathCollection at 0x7f6b2f3440f0>"
      ]
     },
     "execution_count": 5,
     "metadata": {},
     "output_type": "execute_result"
    },
    {
     "data": {
      "image/png": "[encoded data removed]",
      "text/plain": [
       "<matplotlib.figure.Figure at 0x7f6b319e5a58>"
      ]
     },
     "metadata": {},
     "output_type": "display_data"
    }
   ],
   "source": [
    "plt.scatter(train_X,train_Y)"
   ]
  },
  {
   "cell_type": "code",
   "execution_count": null,
   "metadata": {
    "collapsed": true
   },
   "outputs": [],
   "source": [
    "f(x) = w*x + b"
   ]
  },
  {
   "cell_type": "markdown",
   "metadata": {},
   "source": [
    "定义TensorFlow参数：X，Y，W，b"
   ]
  },
  {
   "cell_type": "code",
   "execution_count": 48,
   "metadata": {
    "collapsed": true
   },
   "outputs": [],
   "source": [
    "# tf Graph Input\n",
    "X = tf.placeholder(\"float\")\n",
    "Y = tf.placeholder(\"float\")\n",
    "\n",
    "# Set model weights\n",
    "#Variable变量，定义了，斜率和截距，成功求解\n",
    "#weight，权重，x*weight = y\n",
    "#斜率就是 weight\n",
    "W= tf.Variable(rng.randn(), name=\"weight\")\n",
    "#b截距，bias 有偏差，就相当于有截距\n",
    "b = tf.Variable(rng.randn(), name=\"bias\")"
   ]
  },
  {
   "cell_type": "code",
   "execution_count": 49,
   "metadata": {},
   "outputs": [
    {
     "data": {
      "text/plain": [
       "0.78831261"
      ]
     },
     "execution_count": 49,
     "metadata": {},
     "output_type": "execute_result"
    }
   ],
   "source": [
    "sess = tf.Session()\n",
    "init = tf.global_variables_initializer()\n",
    "sess.run(init)\n",
    "sess.run(W)"
   ]
  },
  {
   "cell_type": "markdown",
   "metadata": {},
   "source": [
    "创建线性模型"
   ]
  },
  {
   "cell_type": "code",
   "execution_count": 50,
   "metadata": {
    "collapsed": true
   },
   "outputs": [],
   "source": [
    "# Construct a linear model\n",
    "#f(x) = w*x + b\n",
    "#预测值，train_Y原本的值\n",
    "y_pred = tf.add(tf.multiply(X, W), b)"
   ]
  },
  {
   "cell_type": "code",
   "execution_count": null,
   "metadata": {
    "collapsed": true
   },
   "outputs": [],
   "source": [
    "f(x) = w*X + b"
   ]
  },
  {
   "cell_type": "code",
   "execution_count": 52,
   "metadata": {
    "scrolled": true
   },
   "outputs": [
    {
     "name": "stdout",
     "output_type": "stream",
     "text": [
      "0.788313 -0.667163\n"
     ]
    }
   ],
   "source": [
    "print(sess.run(W),sess.run(b))"
   ]
  },
  {
   "cell_type": "code",
   "execution_count": 53,
   "metadata": {},
   "outputs": [
    {
     "data": {
      "text/plain": [
       "-0.66716313"
      ]
     },
     "execution_count": 53,
     "metadata": {},
     "output_type": "execute_result"
    }
   ],
   "source": [
    "sess.run(y_pred,feed_dict={X:0})"
   ]
  },
  {
   "cell_type": "markdown",
   "metadata": {},
   "source": [
    "创建TensorFlow均方误差cost  \n",
    "以及梯度下降优化器optimizer"
   ]
  },
  {
   "cell_type": "code",
   "execution_count": null,
   "metadata": {
    "collapsed": true
   },
   "outputs": [],
   "source": []
  },
  {
   "cell_type": "code",
   "execution_count": 10,
   "metadata": {},
   "outputs": [
    {
     "data": {
      "text/plain": [
       "16"
      ]
     },
     "execution_count": 10,
     "metadata": {},
     "output_type": "execute_result"
    }
   ],
   "source": [
    "a = tf.constant(10)\n",
    "sess = tf.Session()\n",
    "sess.run(tf.pow(4,2))"
   ]
  },
  {
   "cell_type": "code",
   "execution_count": 14,
   "metadata": {},
   "outputs": [
    {
     "data": {
      "text/plain": [
       "51.457887305144027"
      ]
     },
     "execution_count": 14,
     "metadata": {},
     "output_type": "execute_result"
    }
   ],
   "source": [
    "#以求和的方式降低维度\n",
    "sess.run(tf.reduce_sum(train_Y))"
   ]
  },
  {
   "cell_type": "code",
   "execution_count": 13,
   "metadata": {
    "collapsed": true
   },
   "outputs": [
    {
     "data": {
      "text/plain": [
       "array([-0.18843048,  2.18305446,  2.15855122,  1.60524728,  1.50838794,\n",
       "        2.26494973,  0.68511581,  3.50356869,  2.50877423,  2.25756515,\n",
       "        2.3232098 ,  2.67794654,  2.13307022,  2.81002164,  2.62981624,\n",
       "        5.58111138,  3.86125858,  3.66049773,  3.507881  ,  3.78629015])"
      ]
     },
     "execution_count": 13,
     "metadata": {},
     "output_type": "execute_result"
    }
   ],
   "source": [
    "train_Y"
   ]
  },
  {
   "cell_type": "code",
   "execution_count": 40,
   "metadata": {
    "collapsed": true
   },
   "outputs": [],
   "source": [
    "#算法比较真实数据和预测的数据的差距\n",
    "#减法\n",
    "#更好的方式，平均误差\n",
    "#公式\n",
    "\n",
    "# 均方误差，平均误差\n",
    "#损失，差距\n",
    "cost = tf.reduce_sum(tf.pow(y_pred-Y, 2))/n_samples\n",
    "\n",
    "\n",
    "#算法\n",
    "# 实现梯度下降算法的优化器\n",
    "#learning_rate = 0.01\n",
    "#minimize:最小化 进行梯度下降的条件\n",
    "optimizer = tf.train.GradientDescentOptimizer(learning_rate).minimize(cost)\n",
    "tf.train.GradientDescentOptimizer(learning_rate)"
   ]
  },
  {
   "cell_type": "markdown",
   "metadata": {},
   "source": [
    "TensorFlow进行初始化"
   ]
  },
  {
   "cell_type": "code",
   "execution_count": 41,
   "metadata": {
    "collapsed": true
   },
   "outputs": [],
   "source": [
    "# Initialize the variables (i.e. assign their default value)\n",
    "init = tf.global_variables_initializer()"
   ]
  },
  {
   "cell_type": "code",
   "execution_count": 17,
   "metadata": {
    "collapsed": true
   },
   "outputs": [
    {
     "name": "stdout",
     "output_type": "stream",
     "text": [
      "1 4\n",
      "2 5\n",
      "3 6\n"
     ]
    }
   ],
   "source": [
    "a = [1,2,3]\n",
    "b = [4,5,6]\n",
    "for i,j in zip(a,b):\n",
    "    print(i,j)"
   ]
  },
  {
   "cell_type": "code",
   "execution_count": 20,
   "metadata": {
    "collapsed": true
   },
   "outputs": [],
   "source": [
    "sess.close()"
   ]
  },
  {
   "cell_type": "code",
   "execution_count": 18,
   "metadata": {},
   "outputs": [
    {
     "data": {
      "text/plain": [
       "(20,)"
      ]
     },
     "execution_count": 18,
     "metadata": {},
     "output_type": "execute_result"
    }
   ],
   "source": [
    "train_X.shape"
   ]
  },
  {
   "cell_type": "code",
   "execution_count": 42,
   "metadata": {
    "scrolled": false
   },
   "outputs": [
    {
     "name": "stdout",
     "output_type": "stream",
     "text": [
      "Epoch: 0050 cost= 1.153173804 W= 0.229836 b= 1.18803\n",
      "Epoch: 0100 cost= 1.118243217 W= 0.246178 b= 1.06118\n",
      "Epoch: 0150 cost= 1.097153902 W= 0.258782 b= 0.963342\n",
      "Epoch: 0200 cost= 1.084369898 W= 0.268505 b= 0.887871\n",
      "Epoch: 0250 cost= 1.076581597 W= 0.276005 b= 0.829657\n",
      "Epoch: 0300 cost= 1.071807027 W= 0.28179 b= 0.784753\n",
      "Epoch: 0350 cost= 1.068857789 W= 0.286252 b= 0.750117\n",
      "Epoch: 0400 cost= 1.067019582 W= 0.289694 b= 0.7234\n",
      "Epoch: 0450 cost= 1.065861225 W= 0.292349 b= 0.702791\n",
      "Epoch: 0500 cost= 1.065122247 W= 0.294397 b= 0.686895\n",
      "Epoch: 0550 cost= 1.064644217 W= 0.295976 b= 0.674633\n",
      "Epoch: 0600 cost= 1.064330339 W= 0.297195 b= 0.665175\n",
      "Epoch: 0650 cost= 1.064120531 W= 0.298135 b= 0.657879\n",
      "Epoch: 0700 cost= 1.063978314 W= 0.29886 b= 0.652252\n",
      "Epoch: 0750 cost= 1.063879967 W= 0.299419 b= 0.647912\n",
      "Epoch: 0800 cost= 1.063810945 W= 0.29985 b= 0.644563\n",
      "Epoch: 0850 cost= 1.063761950 W= 0.300183 b= 0.641981\n",
      "Epoch: 0900 cost= 1.063726425 W= 0.30044 b= 0.639989\n",
      "Epoch: 0950 cost= 1.063700438 W= 0.300638 b= 0.638452\n",
      "Epoch: 1000 cost= 1.063681364 W= 0.30079 b= 0.637267\n",
      "Optimization Finished!\n",
      "Training cost= 1.06368 W= 0.30079 b= 0.637267 \n",
      "\n"
     ]
    },
    {
     "data": {
      "image/png": "[encoded data removed]",
      "text/plain": [
       "<matplotlib.figure.Figure at 0x7f6b267e4390>"
      ]
     },
     "metadata": {},
     "output_type": "display_data"
    }
   ],
   "source": [
    "# 训练开始\n",
    "with tf.Session() as sess:\n",
    "    #初始化\n",
    "    sess.run(init)\n",
    "\n",
    "    # 训练所有数据 1000次for循环\n",
    "    for epoch in range(training_epochs):\n",
    "        #执行20次\n",
    "        for (x, y) in zip(train_X, train_Y):\n",
    "            #每次for循环执行了梯度下降的算法\n",
    "            sess.run(optimizer, feed_dict={X: x, Y: y})\n",
    "\n",
    "        #每执行50次显示运算结果\n",
    "        if (epoch+1) % display_step == 0:\n",
    "            #cost 平均偏差\n",
    "            c = sess.run(cost, feed_dict={X: train_X, Y:train_Y})\n",
    "            print(\"Epoch:\", '%04d' % (epoch+1), \"cost=\", \"{:.9f}\".format(c),\n",
    "                  \"W=\", sess.run(W), \"b=\", sess.run(b))\n",
    "\n",
    "    #算法优化结束\n",
    "    print(\"Optimization Finished!\")\n",
    "    \n",
    "    #平均偏差，最终结果\n",
    "    training_cost = sess.run(cost, feed_dict={X: train_X, Y: train_Y})\n",
    "    print(\"Training cost=\", training_cost, \"W=\", sess.run(W), \"b=\", sess.run(b), '\\n')\n",
    "\n",
    "    #数据可视化\n",
    "    plt.plot(train_X, train_Y, 'ro', label='Original data')\n",
    "    plt.plot(train_X, sess.run(W) * train_X + sess.run(b), label='Fitted line')\n",
    "    plt.legend()"
   ]
  }
 ],
 "metadata": {
  "anaconda-cloud": {},
  "kernelspec": {
   "display_name": "Python 3",
   "language": "python",
   "name": "python3"
  },
  "language_info": {
   "codemirror_mode": {
    "name": "ipython",
    "version": 3
   },
   "file_extension": ".py",
   "mimetype": "text/x-python",
   "name": "python",
   "nbconvert_exporter": "python",
   "pygments_lexer": "ipython3",
   "version": "3.5.2"
  }
 },
 "nbformat": 4,
 "nbformat_minor": 1
}
