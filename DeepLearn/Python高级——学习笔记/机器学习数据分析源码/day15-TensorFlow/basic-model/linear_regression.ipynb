{
 "cells": [
  {
   "cell_type": "markdown",
   "metadata": {},
   "source": [
    "# Linear Regression Example\n",
    "\n",
    "使用TensorFlow实现线性回归.\n",
    "\n"
   ]
  },
  {
   "cell_type": "markdown",
   "metadata": {},
   "source": [
    "导包"
   ]
  },
  {
   "cell_type": "code",
   "execution_count": 1,
   "metadata": {
    "collapsed": true
   },
   "outputs": [],
   "source": [
    "import tensorflow as tf\n",
    "import numpy as np\n",
    "import matplotlib.pyplot as plt\n",
    "%matplotlib inline\n",
    "# 随机数\n",
    "rng = np.random"
   ]
  },
  {
   "cell_type": "markdown",
   "metadata": {},
   "source": [
    "定义训练次数learning_epochs，卷曲神经的学习率learning_rate  \n",
    "显示打印数据的步幅display_step"
   ]
  },
  {
   "cell_type": "code",
   "execution_count": 2,
   "metadata": {
    "collapsed": true
   },
   "outputs": [],
   "source": [
    "# 参数\n",
    "learning_rate = 0.01\n",
    "#学习1000次\n",
    "training_epochs = 1000\n",
    "display_step = 50"
   ]
  },
  {
   "cell_type": "markdown",
   "metadata": {},
   "source": [
    "生成训练数据"
   ]
  },
  {
   "cell_type": "code",
   "execution_count": 3,
   "metadata": {
    "collapsed": true
   },
   "outputs": [],
   "source": [
    "train_X = np.linspace(0,10,num= 20)+np.random.randn(20)\n",
    "train_Y = np.linspace(1,4,num = 20)+np.random.randn(20)\n",
    "n_samples = 20"
   ]
  },
  {
   "cell_type": "code",
   "execution_count": 4,
   "metadata": {},
   "outputs": [
    {
     "data": {
      "text/plain": [
       "<matplotlib.collections.PathCollection at 0x7f523d71ba90>"
      ]
     },
     "execution_count": 4,
     "metadata": {},
     "output_type": "execute_result"
    },
    {
     "data": {
      "image/png": "[encoded data removed]",
      "text/plain": [
       "<matplotlib.figure.Figure at 0x7f523f7336d8>"
      ]
     },
     "metadata": {},
     "output_type": "display_data"
    }
   ],
   "source": [
    "plt.scatter(train_X,train_Y)"
   ]
  },
  {
   "cell_type": "code",
   "execution_count": 5,
   "metadata": {
    "scrolled": true
   },
   "outputs": [
    {
     "data": {
      "text/plain": [
       "[<matplotlib.lines.Line2D at 0x7f52464ab5f8>]"
      ]
     },
     "execution_count": 5,
     "metadata": {},
     "output_type": "execute_result"
    },
    {
     "data": {
      "image/png": "[encoded data removed]",
      "text/plain": [
       "<matplotlib.figure.Figure at 0x7f523d6f1828>"
      ]
     },
     "metadata": {},
     "output_type": "display_data"
    }
   ],
   "source": [
    "#使用之前的线性回归，将数据进行训练和学习\n",
    "\n",
    "from sklearn.linear_model import LinearRegression\n",
    "\n",
    "lrg = LinearRegression()\n",
    "\n",
    "#训练数据\n",
    "lrg.fit(train_X.reshape((20,1)),train_Y)\n",
    "\n",
    "#声明预测数据\n",
    "x_test = np.linspace(-2,12,num = 100).reshape((100,1))\n",
    "#预测\n",
    "y_ = lrg.predict(x_test)\n",
    "plt.scatter(train_X,train_Y)\n",
    "\n",
    "#输出预测结果\n",
    "plt.plot(x_test,y_,c = 'green')"
   ]
  },
  {
   "cell_type": "code",
   "execution_count": 7,
   "metadata": {},
   "outputs": [
    {
     "name": "stdout",
     "output_type": "stream",
     "text": [
      "[ 0.27245924] 1.20407653204\n"
     ]
    }
   ],
   "source": [
    "print(lrg.coef_,lrg.intercept_)"
   ]
  },
  {
   "cell_type": "code",
   "execution_count": null,
   "metadata": {
    "collapsed": true
   },
   "outputs": [],
   "source": [
    "f(x) = w*x + b"
   ]
  },
  {
   "cell_type": "markdown",
   "metadata": {},
   "source": [
    "定义TensorFlow参数：X，Y，W，b"
   ]
  },
  {
   "cell_type": "code",
   "execution_count": 15,
   "metadata": {
    "collapsed": true
   },
   "outputs": [],
   "source": [
    "# tf Graph Input\n",
    "#占位符，此时X，Y并没有赋值，训练的时候进行赋值\n",
    "#通过feed这种方式进行赋值\n",
    "#未知数据\n",
    "X = tf.placeholder(\"float\")\n",
    "Y = tf.placeholder(\"float\")\n",
    "\n",
    "# Set model weights\n",
    "#Variable变量，定义了，斜率和截距，成功求解\n",
    "#weight，权重，x*weight = y\n",
    "#斜率就是 weight\n",
    "#Variable变量\n",
    "# W ，b一开始蒙了一个数据\n",
    "W= tf.Variable(rng.randn())\n",
    "#b截距，bias 有偏差，就相当于有截距\n",
    "b = tf.Variable(rng.randn())"
   ]
  },
  {
   "cell_type": "markdown",
   "metadata": {},
   "source": [
    "创建线性模型"
   ]
  },
  {
   "cell_type": "code",
   "execution_count": 16,
   "metadata": {},
   "outputs": [],
   "source": [
    "# Construct a linear model\n",
    "#f(x) = w*x + b\n",
    "#预测值，train_Y原本的值\n",
    "#并不是真实的，需要使用TensorFlow 进行学习，尽心处理\n",
    "#函数f(x)\n",
    "# 预测函数\n",
    "y_pred = tf.add(tf.multiply(X, W), b)"
   ]
  },
  {
   "cell_type": "markdown",
   "metadata": {},
   "source": [
    "创建TensorFlow均方误差cost  \n",
    "以及梯度下降优化器optimizer"
   ]
  },
  {
   "cell_type": "code",
   "execution_count": 27,
   "metadata": {
    "collapsed": true
   },
   "outputs": [],
   "source": [
    "# 均方误差，平均误差\n",
    "#cost越小，数据越精确\n",
    "# 损失函数，y_pred 预测函数（f(x) = w*x + b）\n",
    "# Y 真实的数据，y值，创造20个点，\n",
    "# (Y - y_pred)^2/样本量   平均最小二乘法\n",
    "# cost越小，说明预测函数越精确---->w,b---->答案\n",
    "cost = tf.reduce_mean(tf.pow(y_pred-Y, 2))\n",
    "\n",
    "#算法\n",
    "# 实现梯度下降算法的优化器\n",
    "#learning_rate = 0.01\n",
    "#minimize:最小化 进行梯度下降的条件\n",
    "optimizer = tf.train.GradientDescentOptimizer(learning_rate).minimize(cost)"
   ]
  },
  {
   "cell_type": "markdown",
   "metadata": {},
   "source": [
    "TensorFlow进行初始化"
   ]
  },
  {
   "cell_type": "code",
   "execution_count": 20,
   "metadata": {
    "collapsed": true
   },
   "outputs": [],
   "source": [
    "# Initialize the variables (i.e. assign their default value)\n",
    "init = tf.global_variables_initializer()"
   ]
  },
  {
   "cell_type": "code",
   "execution_count": 28,
   "metadata": {
    "scrolled": false
   },
   "outputs": [
    {
     "name": "stdout",
     "output_type": "stream",
     "text": [
      "Epoch: 0050 cost= 0.715032935 W= 0.342179 b= 0.904533\n",
      "Epoch: 0100 cost= 0.715183139 W= 0.342565 b= 0.898903\n",
      "Epoch: 0150 cost= 0.715184867 W= 0.342568 b= 0.898851\n",
      "Epoch: 0200 cost= 0.715184867 W= 0.342568 b= 0.898851\n",
      "Epoch: 0250 cost= 0.715184867 W= 0.342568 b= 0.898851\n",
      "Epoch: 0300 cost= 0.715184867 W= 0.342568 b= 0.898851\n",
      "Epoch: 0350 cost= 0.715184867 W= 0.342568 b= 0.898851\n",
      "Epoch: 0400 cost= 0.715184867 W= 0.342568 b= 0.898851\n",
      "Epoch: 0450 cost= 0.715184867 W= 0.342568 b= 0.898851\n",
      "Epoch: 0500 cost= 0.715184867 W= 0.342568 b= 0.898851\n",
      "Epoch: 0550 cost= 0.715184867 W= 0.342568 b= 0.898851\n",
      "Epoch: 0600 cost= 0.715184867 W= 0.342568 b= 0.898851\n",
      "Epoch: 0650 cost= 0.715184867 W= 0.342568 b= 0.898851\n",
      "Epoch: 0700 cost= 0.715184867 W= 0.342568 b= 0.898851\n",
      "Epoch: 0750 cost= 0.715184867 W= 0.342568 b= 0.898851\n",
      "Epoch: 0800 cost= 0.715184867 W= 0.342568 b= 0.898851\n",
      "Epoch: 0850 cost= 0.715184867 W= 0.342568 b= 0.898851\n",
      "Epoch: 0900 cost= 0.715184867 W= 0.342568 b= 0.898851\n",
      "Epoch: 0950 cost= 0.715184867 W= 0.342568 b= 0.898851\n",
      "Epoch: 1000 cost= 0.715184867 W= 0.342568 b= 0.898851\n",
      "Optimization Finished!\n",
      "Training cost= 0.715185 W= 0.342568 b= 0.898851 \n",
      "\n"
     ]
    },
    {
     "data": {
      "image/png": "[encoded data removed]",
      "text/plain": [
       "<matplotlib.figure.Figure at 0x7f522e3eaf60>"
      ]
     },
     "metadata": {},
     "output_type": "display_data"
    }
   ],
   "source": [
    "# 训练开始\n",
    "with tf.Session() as sess:\n",
    "    #初始化\n",
    "    sess.run(init)\n",
    "\n",
    "    #学习了20000 次\n",
    "    # 训练所有数据 1000次for循环\n",
    "    for epoch in range(training_epochs):\n",
    "        #执行20次\n",
    "        #TensorFlow可以连续学习\n",
    "        for (x, y) in zip(train_X, train_Y):\n",
    "            #每次for循环执行了梯度下降的算法\n",
    "#             条件cost值最小\n",
    "            sess.run(optimizer, feed_dict={X: x, Y: y})\n",
    "\n",
    "        #每执行50次显示运算结果\n",
    "        if (epoch+1)%50 == 0:\n",
    "            #cost 最小二乘法平方差之和的平局值\n",
    "#             cost = tf.reduce_sum(tf.pow(y_pred-Y, 2))/n_samples\n",
    "            c = sess.run(cost, feed_dict={X: train_X, Y:train_Y})\n",
    "#           f(x) = w*x + b---->w:weight;  b: bias(偏差)\n",
    "            print(\"Epoch:\", '%04d' % (epoch+1), \"cost=\", \"{:.9f}\".format(c),\n",
    "                  \"W=\", sess.run(W), \"b=\", sess.run(b))\n",
    "\n",
    "    #算法优化结束\n",
    "    print(\"Optimization Finished!\")\n",
    "    \n",
    "    #平均偏差，最终结果\n",
    "    training_cost = sess.run(cost, feed_dict={X: train_X, Y: train_Y})\n",
    "    print(\"Training cost=\", training_cost, \"W=\", sess.run(W), \"b=\", sess.run(b), '\\n')\n",
    "\n",
    "    #数据可视化\n",
    "    plt.plot(train_X, train_Y, 'ro', label='Original data')\n",
    "    #f(x) = w*x + b\n",
    "    plt.plot(train_X, sess.run(W) * train_X + sess.run(b), label='Fitted line')\n",
    "    plt.legend()"
   ]
  },
  {
   "cell_type": "code",
   "execution_count": 24,
   "metadata": {},
   "outputs": [
    {
     "name": "stdout",
     "output_type": "stream",
     "text": [
      "[ 0.27245924] 1.20407653204\n"
     ]
    }
   ],
   "source": [
    "print(lrg.coef_,lrg.intercept_)"
   ]
  }
 ],
 "metadata": {
  "anaconda-cloud": {},
  "kernelspec": {
   "display_name": "Python 3",
   "language": "python",
   "name": "python3"
  },
  "language_info": {
   "codemirror_mode": {
    "name": "ipython",
    "version": 3
   },
   "file_extension": ".py",
   "mimetype": "text/x-python",
   "name": "python",
   "nbconvert_exporter": "python",
   "pygments_lexer": "ipython3",
   "version": "3.5.2"
  }
 },
 "nbformat": 4,
 "nbformat_minor": 1
}
