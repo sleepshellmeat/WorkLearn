{
 "cells": [
  {
   "cell_type": "markdown",
   "metadata": {},
   "source": [
    "# 美国2012年总统候选人政治献金数据分析"
   ]
  },
  {
   "cell_type": "markdown",
   "metadata": {},
   "source": [
    "导入包"
   ]
  },
  {
   "cell_type": "code",
   "execution_count": 2,
   "metadata": {
    "collapsed": true
   },
   "outputs": [],
   "source": [
    "import numpy as np\n",
    "import pandas as pd\n",
    "from pandas import Series,DataFrame\n",
    "import matplotlib as mpl\n",
    "%matplotlib inline #魔法命令"
   ]
  },
  {
   "cell_type": "code",
   "execution_count": 36,
   "metadata": {
    "collapsed": true
   },
   "outputs": [],
   "source": [
    "# 设置图像显示大小\n",
    "mpl.rc('figure', figsize=(8, 4))\n",
    "# np.set_printoptions()\n",
    "months = {'JAN' : 1, 'FEB' : 2, 'MAR' : 3, 'APR' : 4, 'MAY' : 5, 'JUN' : 6,\n",
    "          'JUL' : 7, 'AUG' : 8, 'SEP' : 9, 'OCT': 10, 'NOV': 11, 'DEC' : 12}\n",
    "of_interest = ['Obama, Barack', 'Romney, Mitt', 'Santorum, Rick', \n",
    "               'Paul, Ron', 'Gingrich, Newt']\n",
    "parties = {\n",
    "  'Bachmann, Michelle': 'Republican',\n",
    "  'Romney, Mitt': 'Republican',\n",
    "  'Obama, Barack': 'Democrat',\n",
    "  \"Roemer, Charles E. 'Buddy' III\": 'Reform',\n",
    "  'Pawlenty, Timothy': 'Republican',\n",
    "  'Johnson, Gary Earl': 'Libertarian',\n",
    "  'Paul, Ron': 'Republican',\n",
    "  'Santorum, Rick': 'Republican',\n",
    "  'Cain, Herman': 'Republican',\n",
    "  'Gingrich, Newt': 'Republican',\n",
    "  'McCotter, Thaddeus G': 'Republican',\n",
    "  'Huntsman, Jon': 'Republican',\n",
    "  'Perry, Rick': 'Republican'           \n",
    " }"
   ]
  },
  {
   "cell_type": "markdown",
   "metadata": {},
   "source": [
    "读取文件"
   ]
  },
  {
   "cell_type": "code",
   "execution_count": 56,
   "metadata": {
    "collapsed": true
   },
   "outputs": [
    {
     "data": {
      "text/html": [
       "<div>\n",
       "<style>\n",
       "    .dataframe thead tr:only-child th {\n",
       "        text-align: right;\n",
       "    }\n",
       "\n",
       "    .dataframe thead th {\n",
       "        text-align: left;\n",
       "    }\n",
       "\n",
       "    .dataframe tbody tr th {\n",
       "        vertical-align: top;\n",
       "    }\n",
       "</style>\n",
       "<table border=\"1\" class=\"dataframe\">\n",
       "  <thead>\n",
       "    <tr style=\"text-align: right;\">\n",
       "      <th></th>\n",
       "      <th>cmte_id</th>\n",
       "      <th>cand_id</th>\n",
       "      <th>cand_nm</th>\n",
       "      <th>contbr_nm</th>\n",
       "      <th>contbr_city</th>\n",
       "      <th>contbr_st</th>\n",
       "      <th>contbr_zip</th>\n",
       "      <th>contbr_employer</th>\n",
       "      <th>contbr_occupation</th>\n",
       "      <th>contb_receipt_amt</th>\n",
       "      <th>contb_receipt_dt</th>\n",
       "      <th>receipt_desc</th>\n",
       "      <th>memo_cd</th>\n",
       "      <th>memo_text</th>\n",
       "      <th>form_tp</th>\n",
       "      <th>file_num</th>\n",
       "    </tr>\n",
       "  </thead>\n",
       "  <tbody>\n",
       "    <tr>\n",
       "      <th>0</th>\n",
       "      <td>C00410118</td>\n",
       "      <td>P20002978</td>\n",
       "      <td>Bachmann, Michelle</td>\n",
       "      <td>HARVEY, WILLIAM</td>\n",
       "      <td>MOBILE</td>\n",
       "      <td>AL</td>\n",
       "      <td>366010290</td>\n",
       "      <td>RETIRED</td>\n",
       "      <td>RETIRED</td>\n",
       "      <td>250.0</td>\n",
       "      <td>20-JUN-11</td>\n",
       "      <td>NaN</td>\n",
       "      <td>NaN</td>\n",
       "      <td>NaN</td>\n",
       "      <td>SA17A</td>\n",
       "      <td>736166</td>\n",
       "    </tr>\n",
       "    <tr>\n",
       "      <th>1</th>\n",
       "      <td>C00410118</td>\n",
       "      <td>P20002978</td>\n",
       "      <td>Bachmann, Michelle</td>\n",
       "      <td>HARVEY, WILLIAM</td>\n",
       "      <td>MOBILE</td>\n",
       "      <td>AL</td>\n",
       "      <td>366010290</td>\n",
       "      <td>RETIRED</td>\n",
       "      <td>RETIRED</td>\n",
       "      <td>50.0</td>\n",
       "      <td>23-JUN-11</td>\n",
       "      <td>NaN</td>\n",
       "      <td>NaN</td>\n",
       "      <td>NaN</td>\n",
       "      <td>SA17A</td>\n",
       "      <td>736166</td>\n",
       "    </tr>\n",
       "    <tr>\n",
       "      <th>2</th>\n",
       "      <td>C00410118</td>\n",
       "      <td>P20002978</td>\n",
       "      <td>Bachmann, Michelle</td>\n",
       "      <td>SMITH, LANIER</td>\n",
       "      <td>LANETT</td>\n",
       "      <td>AL</td>\n",
       "      <td>368633403</td>\n",
       "      <td>INFORMATION REQUESTED</td>\n",
       "      <td>INFORMATION REQUESTED</td>\n",
       "      <td>250.0</td>\n",
       "      <td>05-JUL-11</td>\n",
       "      <td>NaN</td>\n",
       "      <td>NaN</td>\n",
       "      <td>NaN</td>\n",
       "      <td>SA17A</td>\n",
       "      <td>749073</td>\n",
       "    </tr>\n",
       "    <tr>\n",
       "      <th>3</th>\n",
       "      <td>C00410118</td>\n",
       "      <td>P20002978</td>\n",
       "      <td>Bachmann, Michelle</td>\n",
       "      <td>BLEVINS, DARONDA</td>\n",
       "      <td>PIGGOTT</td>\n",
       "      <td>AR</td>\n",
       "      <td>724548253</td>\n",
       "      <td>NONE</td>\n",
       "      <td>RETIRED</td>\n",
       "      <td>250.0</td>\n",
       "      <td>01-AUG-11</td>\n",
       "      <td>NaN</td>\n",
       "      <td>NaN</td>\n",
       "      <td>NaN</td>\n",
       "      <td>SA17A</td>\n",
       "      <td>749073</td>\n",
       "    </tr>\n",
       "    <tr>\n",
       "      <th>4</th>\n",
       "      <td>C00410118</td>\n",
       "      <td>P20002978</td>\n",
       "      <td>Bachmann, Michelle</td>\n",
       "      <td>WARDENBURG, HAROLD</td>\n",
       "      <td>HOT SPRINGS NATION</td>\n",
       "      <td>AR</td>\n",
       "      <td>719016467</td>\n",
       "      <td>NONE</td>\n",
       "      <td>RETIRED</td>\n",
       "      <td>300.0</td>\n",
       "      <td>20-JUN-11</td>\n",
       "      <td>NaN</td>\n",
       "      <td>NaN</td>\n",
       "      <td>NaN</td>\n",
       "      <td>SA17A</td>\n",
       "      <td>736166</td>\n",
       "    </tr>\n",
       "  </tbody>\n",
       "</table>\n",
       "</div>"
      ],
      "text/plain": [
       "     cmte_id    cand_id             cand_nm           contbr_nm  \\\n",
       "0  C00410118  P20002978  Bachmann, Michelle     HARVEY, WILLIAM   \n",
       "1  C00410118  P20002978  Bachmann, Michelle     HARVEY, WILLIAM   \n",
       "2  C00410118  P20002978  Bachmann, Michelle       SMITH, LANIER   \n",
       "3  C00410118  P20002978  Bachmann, Michelle    BLEVINS, DARONDA   \n",
       "4  C00410118  P20002978  Bachmann, Michelle  WARDENBURG, HAROLD   \n",
       "\n",
       "          contbr_city contbr_st contbr_zip        contbr_employer  \\\n",
       "0              MOBILE        AL  366010290                RETIRED   \n",
       "1              MOBILE        AL  366010290                RETIRED   \n",
       "2              LANETT        AL  368633403  INFORMATION REQUESTED   \n",
       "3             PIGGOTT        AR  724548253                   NONE   \n",
       "4  HOT SPRINGS NATION        AR  719016467                   NONE   \n",
       "\n",
       "       contbr_occupation  contb_receipt_amt contb_receipt_dt receipt_desc  \\\n",
       "0                RETIRED              250.0        20-JUN-11          NaN   \n",
       "1                RETIRED               50.0        23-JUN-11          NaN   \n",
       "2  INFORMATION REQUESTED              250.0        05-JUL-11          NaN   \n",
       "3                RETIRED              250.0        01-AUG-11          NaN   \n",
       "4                RETIRED              300.0        20-JUN-11          NaN   \n",
       "\n",
       "  memo_cd memo_text form_tp  file_num  \n",
       "0     NaN       NaN   SA17A    736166  \n",
       "1     NaN       NaN   SA17A    736166  \n",
       "2     NaN       NaN   SA17A    749073  \n",
       "3     NaN       NaN   SA17A    749073  \n",
       "4     NaN       NaN   SA17A    736166  "
      ]
     },
     "execution_count": 56,
     "metadata": {},
     "output_type": "execute_result"
    }
   ],
   "source": [
    "fec = pd.read_csv('/home/nanfengpo/Documents/1-data_analysis/3-pandas/data/P00000001-ALL.txt',low_memory=False)\n",
    "fec.head()"
   ]
  },
  {
   "cell_type": "markdown",
   "metadata": {
    "collapsed": true
   },
   "source": [
    "查看文件样式以及基本信息"
   ]
  },
  {
   "cell_type": "code",
   "execution_count": 7,
   "metadata": {},
   "outputs": [
    {
     "data": {
      "text/plain": [
       "(536041, 16)"
      ]
     },
     "metadata": {},
     "output_type": "display_data"
    },
    {
     "data": {
      "text/plain": [
       "pandas.core.frame.DataFrame"
      ]
     },
     "metadata": {},
     "output_type": "display_data"
    }
   ],
   "source": [
    "display(fec.shape,type(fec))"
   ]
  },
  {
   "cell_type": "markdown",
   "metadata": {},
   "source": [
    "【知识点】使用map函数+字典，新建一列"
   ]
  },
  {
   "cell_type": "code",
   "execution_count": 57,
   "metadata": {
    "collapsed": true
   },
   "outputs": [],
   "source": [
    "fec['party'] = fec['cand_nm'].map(parties)"
   ]
  },
  {
   "cell_type": "markdown",
   "metadata": {},
   "source": [
    "查看单独一行，是否加上了'party'一列"
   ]
  },
  {
   "cell_type": "code",
   "execution_count": 58,
   "metadata": {
    "collapsed": true
   },
   "outputs": [
    {
     "data": {
      "text/plain": [
       "cmte_id                       C00410118\n",
       "cand_id                       P20002978\n",
       "cand_nm              Bachmann, Michelle\n",
       "contbr_nm               HARVEY, WILLIAM\n",
       "contbr_city                      MOBILE\n",
       "contbr_st                            AL\n",
       "contbr_zip                    366010290\n",
       "contbr_employer                 RETIRED\n",
       "contbr_occupation               RETIRED\n",
       "contb_receipt_amt                   250\n",
       "contb_receipt_dt              20-JUN-11\n",
       "receipt_desc                        NaN\n",
       "memo_cd                             NaN\n",
       "memo_text                           NaN\n",
       "form_tp                           SA17A\n",
       "file_num                         736166\n",
       "party                        Republican\n",
       "Name: 0, dtype: object"
      ]
     },
     "metadata": {},
     "output_type": "display_data"
    },
    {
     "data": {
      "text/plain": [
       "(536041, 17)"
      ]
     },
     "metadata": {},
     "output_type": "display_data"
    }
   ],
   "source": [
    "display(fec.iloc[0],fec.shape)"
   ]
  },
  {
   "cell_type": "markdown",
   "metadata": {},
   "source": [
    "使用np.unique()函数查看fec.party这一列中有哪些元素"
   ]
  },
  {
   "cell_type": "code",
   "execution_count": 14,
   "metadata": {
    "collapsed": true
   },
   "outputs": [
    {
     "data": {
      "text/plain": [
       "pandas.core.series.Series"
      ]
     },
     "metadata": {},
     "output_type": "display_data"
    },
    {
     "data": {
      "text/plain": [
       "0    Republican\n",
       "1    Republican\n",
       "2    Republican\n",
       "3    Republican\n",
       "4    Republican\n",
       "Name: party, dtype: object"
      ]
     },
     "metadata": {},
     "output_type": "display_data"
    },
    {
     "data": {
      "text/plain": [
       "array(['Democrat', 'Libertarian', 'Reform', 'Republican'], dtype=object)"
      ]
     },
     "execution_count": 14,
     "metadata": {},
     "output_type": "execute_result"
    }
   ],
   "source": [
    "display(type(fec['party']))\n",
    "np.unique(fec['party'])"
   ]
  },
  {
   "cell_type": "markdown",
   "metadata": {},
   "source": [
    "使用value_counts()函数，统计party列中各个元素出现次数"
   ]
  },
  {
   "cell_type": "code",
   "execution_count": 18,
   "metadata": {
    "collapsed": true
   },
   "outputs": [
    {
     "data": {
      "text/plain": [
       "Democrat       292400\n",
       "Republican     237575\n",
       "Reform           5364\n",
       "Libertarian       702\n",
       "Name: party, dtype: int64"
      ]
     },
     "execution_count": 18,
     "metadata": {},
     "output_type": "execute_result"
    }
   ],
   "source": [
    "fec['party'].value_counts()\n",
    "pd.value_counts(fec['party'])"
   ]
  },
  {
   "cell_type": "markdown",
   "metadata": {},
   "source": [
    "【知识点】使用groupby()函数，查看各个党派收到的政治献金总数contb_receipt_amt"
   ]
  },
  {
   "cell_type": "code",
   "execution_count": 19,
   "metadata": {},
   "outputs": [
    {
     "data": {
      "text/plain": [
       "party\n",
       "Democrat       8.105758e+07\n",
       "Libertarian    4.132769e+05\n",
       "Reform         3.390338e+05\n",
       "Republican     1.192255e+08\n",
       "Name: contb_receipt_amt, dtype: float64"
      ]
     },
     "execution_count": 19,
     "metadata": {},
     "output_type": "execute_result"
    }
   ],
   "source": [
    "fec.groupby('party')['contb_receipt_amt'].sum()"
   ]
  },
  {
   "cell_type": "code",
   "execution_count": 31,
   "metadata": {
    "collapsed": true
   },
   "outputs": [
    {
     "data": {
      "text/plain": [
       "pandas.core.series.Series"
      ]
     },
     "metadata": {},
     "output_type": "display_data"
    },
    {
     "data": {
      "text/plain": [
       "party\n",
       "Democrat       8.105758e+07\n",
       "Libertarian    4.132769e+05\n",
       "Reform         3.390338e+05\n",
       "Republican     1.192255e+08\n",
       "Name: contb_receipt_amt, dtype: float64"
      ]
     },
     "execution_count": 31,
     "metadata": {},
     "output_type": "execute_result"
    }
   ],
   "source": [
    "display(type(fec.groupby('party')['contb_receipt_amt'].sum()))\n",
    "fec.groupby(['party'])['contb_receipt_amt'].sum()"
   ]
  },
  {
   "cell_type": "markdown",
   "metadata": {},
   "source": [
    "查看具体每天各个党派收到的政治献金总数contb_receipt_amt"
   ]
  },
  {
   "cell_type": "code",
   "execution_count": 51,
   "metadata": {
    "collapsed": true
   },
   "outputs": [
    {
     "data": {
      "text/plain": [
       "party       contb_receipt_dt\n",
       "Democrat    2011-04-04           640235.12\n",
       "            2011-04-05           307641.00\n",
       "            2011-04-06           247542.59\n",
       "            2011-04-07           252336.00\n",
       "            2011-04-08           295452.00\n",
       "            2011-04-09           105879.00\n",
       "            2011-04-10           100373.00\n",
       "            2011-04-11           360728.00\n",
       "            2011-04-12           405160.46\n",
       "            2011-04-13           382836.33\n",
       "            2011-04-14           306643.50\n",
       "            2011-04-15           408377.00\n",
       "            2011-04-16            82658.00\n",
       "            2011-04-17            70802.00\n",
       "            2011-04-18           501971.37\n",
       "            2011-04-19           304874.00\n",
       "            2011-04-20           314540.11\n",
       "            2011-04-21           315618.00\n",
       "            2011-04-22           295464.45\n",
       "            2011-04-23            34829.00\n",
       "            2011-04-24            37100.00\n",
       "            2011-04-25           447282.00\n",
       "            2011-04-26           600960.50\n",
       "            2011-04-27           188595.00\n",
       "            2011-04-28           677041.36\n",
       "            2011-04-29           294709.00\n",
       "            2011-04-30            95582.00\n",
       "            2011-05-01            82644.00\n",
       "            2011-05-02           396675.00\n",
       "            2011-05-03           261819.11\n",
       "                                   ...    \n",
       "Republican  2012-01-02           114037.13\n",
       "            2012-01-03           155803.62\n",
       "            2012-01-04           577733.61\n",
       "            2012-01-05           451065.98\n",
       "            2012-01-06           262798.46\n",
       "            2012-01-07           148145.58\n",
       "            2012-01-08            84342.84\n",
       "            2012-01-09           501931.44\n",
       "            2012-01-10           487901.67\n",
       "            2012-01-11           452916.99\n",
       "            2012-01-12           348327.39\n",
       "            2012-01-13           463368.26\n",
       "            2012-01-14           608470.68\n",
       "            2012-01-15           322194.08\n",
       "            2012-01-16           367791.70\n",
       "            2012-01-17           625365.77\n",
       "            2012-01-18           888681.17\n",
       "            2012-01-19          1066250.23\n",
       "            2012-01-20           401298.03\n",
       "            2012-01-21           374261.81\n",
       "            2012-01-22           507168.71\n",
       "            2012-01-23           645477.15\n",
       "            2012-01-24           462233.66\n",
       "            2012-01-25           416931.39\n",
       "            2012-01-26           256406.86\n",
       "            2012-01-27           368441.82\n",
       "            2012-01-28            82775.80\n",
       "            2012-01-29            75220.02\n",
       "            2012-01-30           255204.80\n",
       "            2012-01-31           869890.41\n",
       "Name: contb_receipt_amt, Length: 1183, dtype: float64"
      ]
     },
     "metadata": {},
     "output_type": "display_data"
    }
   ],
   "source": [
    "money = fec.groupby(['party','contb_receipt_dt'])['contb_receipt_amt'].sum()\n",
    "display(money)"
   ]
  },
  {
   "cell_type": "markdown",
   "metadata": {},
   "source": [
    "查看日期格式，并将其转换为Pandas的日期格式"
   ]
  },
  {
   "cell_type": "code",
   "execution_count": 62,
   "metadata": {
    "collapsed": true
   },
   "outputs": [
    {
     "data": {
      "text/plain": [
       "0    2011-6-20\n",
       "1    2011-6-23\n",
       "2    2011-7-05\n",
       "3    2011-8-01\n",
       "4    2011-6-20\n",
       "Name: contb_receipt_dt, dtype: object"
      ]
     },
     "execution_count": 62,
     "metadata": {},
     "output_type": "execute_result"
    }
   ],
   "source": [
    "fec['contb_receipt_dt'][0]\n",
    "\n",
    "def convert_date(date):\n",
    "    d,m,y = date.split('-')\n",
    "    m = months[m]\n",
    "    time = '20'+str(y)+'-'+str(m) +'-'+ str(d)\n",
    "    return time\n",
    "fec['contb_receipt_dt'] = fec['contb_receipt_dt'].map(convert_date)\n",
    "fec['contb_receipt_dt'].head()"
   ]
  },
  {
   "cell_type": "code",
   "execution_count": 63,
   "metadata": {
    "collapsed": true
   },
   "outputs": [
    {
     "data": {
      "text/plain": [
       "0    2011-6-20\n",
       "1    2011-6-23\n",
       "2    2011-7-05\n",
       "3    2011-8-01\n",
       "4    2011-6-20\n",
       "Name: contb_receipt_dt, dtype: object"
      ]
     },
     "execution_count": 63,
     "metadata": {},
     "output_type": "execute_result"
    }
   ],
   "source": [
    "fec['contb_receipt_dt'].head()"
   ]
  },
  {
   "cell_type": "markdown",
   "metadata": {},
   "source": [
    "查看是否转换成功"
   ]
  },
  {
   "cell_type": "markdown",
   "metadata": {},
   "source": [
    "得到转换后的，每天各政党所收政治献金数目。"
   ]
  },
  {
   "cell_type": "code",
   "execution_count": 64,
   "metadata": {
    "collapsed": true
   },
   "outputs": [
    {
     "data": {
      "text/plain": [
       "(1183,)"
      ]
     },
     "metadata": {},
     "output_type": "display_data"
    },
    {
     "data": {
      "text/plain": [
       "contb_receipt_dt  party     \n",
       "2011-1-01         Republican    8600.0\n",
       "2011-1-03         Republican    4800.0\n",
       "2011-1-04         Republican    5000.0\n",
       "2011-1-12         Republican    4150.0\n",
       "2011-1-13         Republican    4000.0\n",
       "Name: contb_receipt_amt, dtype: float64"
      ]
     },
     "metadata": {},
     "output_type": "display_data"
    },
    {
     "data": {
      "text/plain": [
       "pandas.core.series.Series"
      ]
     },
     "metadata": {},
     "output_type": "display_data"
    }
   ],
   "source": [
    "by_date = fec.groupby(['contb_receipt_dt','party'])['contb_receipt_amt'].sum()\n",
    "display(by_date.shape,by_date.head(),type(by_date))"
   ]
  },
  {
   "cell_type": "markdown",
   "metadata": {},
   "source": [
    "【知识点】使用unstack()将上面所得数据中的party从一级索引变成列索引"
   ]
  },
  {
   "cell_type": "code",
   "execution_count": 34,
   "metadata": {
    "collapsed": true
   },
   "outputs": [
    {
     "data": {
      "text/plain": [
       "pandas.core.frame.DataFrame"
      ]
     },
     "metadata": {},
     "output_type": "display_data"
    },
    {
     "data": {
      "text/html": [
       "<div>\n",
       "<style>\n",
       "    .dataframe thead tr:only-child th {\n",
       "        text-align: right;\n",
       "    }\n",
       "\n",
       "    .dataframe thead th {\n",
       "        text-align: left;\n",
       "    }\n",
       "\n",
       "    .dataframe tbody tr th {\n",
       "        vertical-align: top;\n",
       "    }\n",
       "</style>\n",
       "<table border=\"1\" class=\"dataframe\">\n",
       "  <thead>\n",
       "    <tr style=\"text-align: right;\">\n",
       "      <th>party</th>\n",
       "      <th>Democrat</th>\n",
       "      <th>Libertarian</th>\n",
       "      <th>Reform</th>\n",
       "      <th>Republican</th>\n",
       "    </tr>\n",
       "    <tr>\n",
       "      <th>contb_receipt_dt</th>\n",
       "      <th></th>\n",
       "      <th></th>\n",
       "      <th></th>\n",
       "      <th></th>\n",
       "    </tr>\n",
       "  </thead>\n",
       "  <tbody>\n",
       "    <tr>\n",
       "      <th>2011-01-01</th>\n",
       "      <td>0.0</td>\n",
       "      <td>0.0</td>\n",
       "      <td>0.0</td>\n",
       "      <td>8600.0</td>\n",
       "    </tr>\n",
       "    <tr>\n",
       "      <th>2011-01-03</th>\n",
       "      <td>0.0</td>\n",
       "      <td>0.0</td>\n",
       "      <td>0.0</td>\n",
       "      <td>4800.0</td>\n",
       "    </tr>\n",
       "    <tr>\n",
       "      <th>2011-01-04</th>\n",
       "      <td>0.0</td>\n",
       "      <td>0.0</td>\n",
       "      <td>0.0</td>\n",
       "      <td>5000.0</td>\n",
       "    </tr>\n",
       "    <tr>\n",
       "      <th>2011-01-12</th>\n",
       "      <td>0.0</td>\n",
       "      <td>0.0</td>\n",
       "      <td>0.0</td>\n",
       "      <td>4150.0</td>\n",
       "    </tr>\n",
       "    <tr>\n",
       "      <th>2011-01-13</th>\n",
       "      <td>0.0</td>\n",
       "      <td>0.0</td>\n",
       "      <td>0.0</td>\n",
       "      <td>4000.0</td>\n",
       "    </tr>\n",
       "  </tbody>\n",
       "</table>\n",
       "</div>"
      ],
      "text/plain": [
       "party             Democrat  Libertarian  Reform  Republican\n",
       "contb_receipt_dt                                           \n",
       "2011-01-01             0.0          0.0     0.0      8600.0\n",
       "2011-01-03             0.0          0.0     0.0      4800.0\n",
       "2011-01-04             0.0          0.0     0.0      5000.0\n",
       "2011-01-12             0.0          0.0     0.0      4150.0\n",
       "2011-01-13             0.0          0.0     0.0      4000.0"
      ]
     },
     "metadata": {},
     "output_type": "display_data"
    }
   ],
   "source": [
    "sums = by_date.unstack('party',fill_value = 0)\n",
    "display(type(sums),sums.head())"
   ]
  },
  {
   "cell_type": "markdown",
   "metadata": {},
   "source": [
    "画出各党派累计政治献金"
   ]
  },
  {
   "cell_type": "code",
   "execution_count": 65,
   "metadata": {
    "collapsed": true
   },
   "outputs": [
    {
     "data": {
      "text/plain": [
       "<matplotlib.axes._subplots.AxesSubplot at 0x7f3325716080>"
      ]
     },
     "execution_count": 65,
     "metadata": {},
     "output_type": "execute_result"
    },
    {
     "data": {
      "image/png": "[encoded data removed]",
      "text/plain": [
       "<matplotlib.figure.Figure at 0x7f3325712780>"
      ]
     },
     "metadata": {},
     "output_type": "display_data"
    }
   ],
   "source": [
    "sums.cumsum().plot()"
   ]
  },
  {
   "cell_type": "markdown",
   "metadata": {},
   "source": [
    "把时间作为列，党派作为行来观察"
   ]
  },
  {
   "cell_type": "code",
   "execution_count": 38,
   "metadata": {},
   "outputs": [
    {
     "data": {
      "text/plain": [
       "pandas.core.frame.DataFrame"
      ]
     },
     "metadata": {},
     "output_type": "display_data"
    },
    {
     "data": {
      "text/plain": [
       "pandas.core.series.Series"
      ]
     },
     "metadata": {},
     "output_type": "display_data"
    },
    {
     "data": {
      "text/html": [
       "<div>\n",
       "<style>\n",
       "    .dataframe thead tr:only-child th {\n",
       "        text-align: right;\n",
       "    }\n",
       "\n",
       "    .dataframe thead th {\n",
       "        text-align: left;\n",
       "    }\n",
       "\n",
       "    .dataframe tbody tr th {\n",
       "        vertical-align: top;\n",
       "    }\n",
       "</style>\n",
       "<table border=\"1\" class=\"dataframe\">\n",
       "  <thead>\n",
       "    <tr style=\"text-align: right;\">\n",
       "      <th>party</th>\n",
       "      <th>Democrat</th>\n",
       "      <th>Libertarian</th>\n",
       "      <th>Reform</th>\n",
       "      <th>Republican</th>\n",
       "    </tr>\n",
       "    <tr>\n",
       "      <th>contb_receipt_dt</th>\n",
       "      <th></th>\n",
       "      <th></th>\n",
       "      <th></th>\n",
       "      <th></th>\n",
       "    </tr>\n",
       "  </thead>\n",
       "  <tbody>\n",
       "    <tr>\n",
       "      <th>2011-01-01</th>\n",
       "      <td>0.0</td>\n",
       "      <td>0.0</td>\n",
       "      <td>0.0</td>\n",
       "      <td>8600.0</td>\n",
       "    </tr>\n",
       "    <tr>\n",
       "      <th>2011-01-03</th>\n",
       "      <td>0.0</td>\n",
       "      <td>0.0</td>\n",
       "      <td>0.0</td>\n",
       "      <td>4800.0</td>\n",
       "    </tr>\n",
       "    <tr>\n",
       "      <th>2011-01-04</th>\n",
       "      <td>0.0</td>\n",
       "      <td>0.0</td>\n",
       "      <td>0.0</td>\n",
       "      <td>5000.0</td>\n",
       "    </tr>\n",
       "    <tr>\n",
       "      <th>2011-01-12</th>\n",
       "      <td>0.0</td>\n",
       "      <td>0.0</td>\n",
       "      <td>0.0</td>\n",
       "      <td>4150.0</td>\n",
       "    </tr>\n",
       "    <tr>\n",
       "      <th>2011-01-13</th>\n",
       "      <td>0.0</td>\n",
       "      <td>0.0</td>\n",
       "      <td>0.0</td>\n",
       "      <td>4000.0</td>\n",
       "    </tr>\n",
       "  </tbody>\n",
       "</table>\n",
       "</div>"
      ],
      "text/plain": [
       "party             Democrat  Libertarian  Reform  Republican\n",
       "contb_receipt_dt                                           \n",
       "2011-01-01             0.0          0.0     0.0      8600.0\n",
       "2011-01-03             0.0          0.0     0.0      4800.0\n",
       "2011-01-04             0.0          0.0     0.0      5000.0\n",
       "2011-01-12             0.0          0.0     0.0      4150.0\n",
       "2011-01-13             0.0          0.0     0.0      4000.0"
      ]
     },
     "metadata": {},
     "output_type": "display_data"
    },
    {
     "data": {
      "text/plain": [
       "contb_receipt_dt  party      \n",
       "2011-01-01        Democrat          0.0\n",
       "                  Libertarian       0.0\n",
       "                  Reform            0.0\n",
       "                  Republican     8600.0\n",
       "2011-01-03        Democrat          0.0\n",
       "dtype: float64"
      ]
     },
     "metadata": {},
     "output_type": "display_data"
    }
   ],
   "source": [
    "s = sums.stack()\n",
    "display(type(sums),type(s),sums.head(),s.head())"
   ]
  },
  {
   "cell_type": "code",
   "execution_count": 66,
   "metadata": {},
   "outputs": [
    {
     "data": {
      "text/html": [
       "<div>\n",
       "<style>\n",
       "    .dataframe thead tr:only-child th {\n",
       "        text-align: right;\n",
       "    }\n",
       "\n",
       "    .dataframe thead th {\n",
       "        text-align: left;\n",
       "    }\n",
       "\n",
       "    .dataframe tbody tr th {\n",
       "        vertical-align: top;\n",
       "    }\n",
       "</style>\n",
       "<table border=\"1\" class=\"dataframe\">\n",
       "  <thead>\n",
       "    <tr style=\"text-align: right;\">\n",
       "      <th>contb_receipt_dt</th>\n",
       "      <th>2011-1-01</th>\n",
       "      <th>2011-1-03</th>\n",
       "      <th>2011-1-04</th>\n",
       "      <th>2011-1-12</th>\n",
       "      <th>2011-1-13</th>\n",
       "      <th>2011-1-14</th>\n",
       "      <th>2011-1-15</th>\n",
       "      <th>2011-1-16</th>\n",
       "      <th>2011-1-17</th>\n",
       "      <th>2011-1-18</th>\n",
       "      <th>...</th>\n",
       "      <th>2012-1-22</th>\n",
       "      <th>2012-1-23</th>\n",
       "      <th>2012-1-24</th>\n",
       "      <th>2012-1-25</th>\n",
       "      <th>2012-1-26</th>\n",
       "      <th>2012-1-27</th>\n",
       "      <th>2012-1-28</th>\n",
       "      <th>2012-1-29</th>\n",
       "      <th>2012-1-30</th>\n",
       "      <th>2012-1-31</th>\n",
       "    </tr>\n",
       "    <tr>\n",
       "      <th>party</th>\n",
       "      <th></th>\n",
       "      <th></th>\n",
       "      <th></th>\n",
       "      <th></th>\n",
       "      <th></th>\n",
       "      <th></th>\n",
       "      <th></th>\n",
       "      <th></th>\n",
       "      <th></th>\n",
       "      <th></th>\n",
       "      <th></th>\n",
       "      <th></th>\n",
       "      <th></th>\n",
       "      <th></th>\n",
       "      <th></th>\n",
       "      <th></th>\n",
       "      <th></th>\n",
       "      <th></th>\n",
       "      <th></th>\n",
       "      <th></th>\n",
       "      <th></th>\n",
       "    </tr>\n",
       "  </thead>\n",
       "  <tbody>\n",
       "    <tr>\n",
       "      <th>Democrat</th>\n",
       "      <td>0.0</td>\n",
       "      <td>0.0</td>\n",
       "      <td>0.0</td>\n",
       "      <td>0.0</td>\n",
       "      <td>0.0</td>\n",
       "      <td>0.0</td>\n",
       "      <td>0.0</td>\n",
       "      <td>0.0</td>\n",
       "      <td>0.0</td>\n",
       "      <td>0.0</td>\n",
       "      <td>...</td>\n",
       "      <td>67194.23</td>\n",
       "      <td>337307.07</td>\n",
       "      <td>458909.23</td>\n",
       "      <td>438949.32</td>\n",
       "      <td>450268.94</td>\n",
       "      <td>305785.47</td>\n",
       "      <td>235492.85</td>\n",
       "      <td>93177.00</td>\n",
       "      <td>435921.72</td>\n",
       "      <td>1418410.31</td>\n",
       "    </tr>\n",
       "    <tr>\n",
       "      <th>Libertarian</th>\n",
       "      <td>0.0</td>\n",
       "      <td>0.0</td>\n",
       "      <td>0.0</td>\n",
       "      <td>0.0</td>\n",
       "      <td>0.0</td>\n",
       "      <td>0.0</td>\n",
       "      <td>0.0</td>\n",
       "      <td>0.0</td>\n",
       "      <td>0.0</td>\n",
       "      <td>0.0</td>\n",
       "      <td>...</td>\n",
       "      <td>0.00</td>\n",
       "      <td>0.00</td>\n",
       "      <td>0.00</td>\n",
       "      <td>0.00</td>\n",
       "      <td>0.00</td>\n",
       "      <td>0.00</td>\n",
       "      <td>0.00</td>\n",
       "      <td>0.00</td>\n",
       "      <td>0.00</td>\n",
       "      <td>0.00</td>\n",
       "    </tr>\n",
       "    <tr>\n",
       "      <th>Reform</th>\n",
       "      <td>0.0</td>\n",
       "      <td>0.0</td>\n",
       "      <td>0.0</td>\n",
       "      <td>0.0</td>\n",
       "      <td>0.0</td>\n",
       "      <td>0.0</td>\n",
       "      <td>0.0</td>\n",
       "      <td>0.0</td>\n",
       "      <td>0.0</td>\n",
       "      <td>0.0</td>\n",
       "      <td>...</td>\n",
       "      <td>450.00</td>\n",
       "      <td>225.00</td>\n",
       "      <td>500.00</td>\n",
       "      <td>282.00</td>\n",
       "      <td>25.00</td>\n",
       "      <td>3176.37</td>\n",
       "      <td>175.00</td>\n",
       "      <td>200.00</td>\n",
       "      <td>130.00</td>\n",
       "      <td>150.00</td>\n",
       "    </tr>\n",
       "    <tr>\n",
       "      <th>Republican</th>\n",
       "      <td>8600.0</td>\n",
       "      <td>4800.0</td>\n",
       "      <td>5000.0</td>\n",
       "      <td>4150.0</td>\n",
       "      <td>4000.0</td>\n",
       "      <td>6000.0</td>\n",
       "      <td>500.0</td>\n",
       "      <td>750.0</td>\n",
       "      <td>500.0</td>\n",
       "      <td>4800.0</td>\n",
       "      <td>...</td>\n",
       "      <td>507168.71</td>\n",
       "      <td>645477.15</td>\n",
       "      <td>462233.66</td>\n",
       "      <td>416931.39</td>\n",
       "      <td>256406.86</td>\n",
       "      <td>368441.82</td>\n",
       "      <td>82775.80</td>\n",
       "      <td>75220.02</td>\n",
       "      <td>255204.80</td>\n",
       "      <td>869890.41</td>\n",
       "    </tr>\n",
       "  </tbody>\n",
       "</table>\n",
       "<p>4 rows × 376 columns</p>\n",
       "</div>"
      ],
      "text/plain": [
       "contb_receipt_dt  2011-1-01  2011-1-03  2011-1-04  2011-1-12  2011-1-13  \\\n",
       "party                                                                     \n",
       "Democrat                0.0        0.0        0.0        0.0        0.0   \n",
       "Libertarian             0.0        0.0        0.0        0.0        0.0   \n",
       "Reform                  0.0        0.0        0.0        0.0        0.0   \n",
       "Republican           8600.0     4800.0     5000.0     4150.0     4000.0   \n",
       "\n",
       "contb_receipt_dt  2011-1-14  2011-1-15  2011-1-16  2011-1-17  2011-1-18  \\\n",
       "party                                                                     \n",
       "Democrat                0.0        0.0        0.0        0.0        0.0   \n",
       "Libertarian             0.0        0.0        0.0        0.0        0.0   \n",
       "Reform                  0.0        0.0        0.0        0.0        0.0   \n",
       "Republican           6000.0      500.0      750.0      500.0     4800.0   \n",
       "\n",
       "contb_receipt_dt     ...      2012-1-22  2012-1-23  2012-1-24  2012-1-25  \\\n",
       "party                ...                                                   \n",
       "Democrat             ...       67194.23  337307.07  458909.23  438949.32   \n",
       "Libertarian          ...           0.00       0.00       0.00       0.00   \n",
       "Reform               ...         450.00     225.00     500.00     282.00   \n",
       "Republican           ...      507168.71  645477.15  462233.66  416931.39   \n",
       "\n",
       "contb_receipt_dt  2012-1-26  2012-1-27  2012-1-28  2012-1-29  2012-1-30  \\\n",
       "party                                                                     \n",
       "Democrat          450268.94  305785.47  235492.85   93177.00  435921.72   \n",
       "Libertarian            0.00       0.00       0.00       0.00       0.00   \n",
       "Reform                25.00    3176.37     175.00     200.00     130.00   \n",
       "Republican        256406.86  368441.82   82775.80   75220.02  255204.80   \n",
       "\n",
       "contb_receipt_dt   2012-1-31  \n",
       "party                         \n",
       "Democrat          1418410.31  \n",
       "Libertarian             0.00  \n",
       "Reform                150.00  \n",
       "Republican         869890.41  \n",
       "\n",
       "[4 rows x 376 columns]"
      ]
     },
     "execution_count": 66,
     "metadata": {},
     "output_type": "execute_result"
    }
   ],
   "source": [
    "date = by_date.unstack('contb_receipt_dt',fill_value = 0)\n",
    "date"
   ]
  },
  {
   "cell_type": "code",
   "execution_count": 68,
   "metadata": {},
   "outputs": [
    {
     "data": {
      "text/html": [
       "<div>\n",
       "<style>\n",
       "    .dataframe thead tr:only-child th {\n",
       "        text-align: right;\n",
       "    }\n",
       "\n",
       "    .dataframe thead th {\n",
       "        text-align: left;\n",
       "    }\n",
       "\n",
       "    .dataframe tbody tr th {\n",
       "        vertical-align: top;\n",
       "    }\n",
       "</style>\n",
       "<table border=\"1\" class=\"dataframe\">\n",
       "  <thead>\n",
       "    <tr style=\"text-align: right;\">\n",
       "      <th>party</th>\n",
       "      <th>Democrat</th>\n",
       "      <th>Libertarian</th>\n",
       "      <th>Reform</th>\n",
       "      <th>Republican</th>\n",
       "    </tr>\n",
       "    <tr>\n",
       "      <th>contb_receipt_dt</th>\n",
       "      <th></th>\n",
       "      <th></th>\n",
       "      <th></th>\n",
       "      <th></th>\n",
       "    </tr>\n",
       "  </thead>\n",
       "  <tbody>\n",
       "    <tr>\n",
       "      <th>2012-01-27</th>\n",
       "      <td>305785.47</td>\n",
       "      <td>0.0</td>\n",
       "      <td>3176.37</td>\n",
       "      <td>368441.82</td>\n",
       "    </tr>\n",
       "    <tr>\n",
       "      <th>2012-01-28</th>\n",
       "      <td>235492.85</td>\n",
       "      <td>0.0</td>\n",
       "      <td>175.00</td>\n",
       "      <td>82775.80</td>\n",
       "    </tr>\n",
       "    <tr>\n",
       "      <th>2012-01-29</th>\n",
       "      <td>93177.00</td>\n",
       "      <td>0.0</td>\n",
       "      <td>200.00</td>\n",
       "      <td>75220.02</td>\n",
       "    </tr>\n",
       "    <tr>\n",
       "      <th>2012-01-30</th>\n",
       "      <td>435921.72</td>\n",
       "      <td>0.0</td>\n",
       "      <td>130.00</td>\n",
       "      <td>255204.80</td>\n",
       "    </tr>\n",
       "    <tr>\n",
       "      <th>2012-01-31</th>\n",
       "      <td>1418410.31</td>\n",
       "      <td>0.0</td>\n",
       "      <td>150.00</td>\n",
       "      <td>869890.41</td>\n",
       "    </tr>\n",
       "  </tbody>\n",
       "</table>\n",
       "</div>"
      ],
      "text/plain": [
       "party               Democrat  Libertarian   Reform  Republican\n",
       "contb_receipt_dt                                              \n",
       "2012-01-27         305785.47          0.0  3176.37   368441.82\n",
       "2012-01-28         235492.85          0.0   175.00    82775.80\n",
       "2012-01-29          93177.00          0.0   200.00    75220.02\n",
       "2012-01-30         435921.72          0.0   130.00   255204.80\n",
       "2012-01-31        1418410.31          0.0   150.00   869890.41"
      ]
     },
     "metadata": {},
     "output_type": "display_data"
    },
    {
     "data": {
      "text/html": [
       "<div>\n",
       "<style>\n",
       "    .dataframe thead tr:only-child th {\n",
       "        text-align: right;\n",
       "    }\n",
       "\n",
       "    .dataframe thead th {\n",
       "        text-align: left;\n",
       "    }\n",
       "\n",
       "    .dataframe tbody tr th {\n",
       "        vertical-align: top;\n",
       "    }\n",
       "</style>\n",
       "<table border=\"1\" class=\"dataframe\">\n",
       "  <thead>\n",
       "    <tr style=\"text-align: right;\">\n",
       "      <th>party</th>\n",
       "      <th>Democrat</th>\n",
       "      <th>Libertarian</th>\n",
       "      <th>Reform</th>\n",
       "      <th>Republican</th>\n",
       "    </tr>\n",
       "    <tr>\n",
       "      <th>contb_receipt_dt</th>\n",
       "      <th></th>\n",
       "      <th></th>\n",
       "      <th></th>\n",
       "      <th></th>\n",
       "    </tr>\n",
       "  </thead>\n",
       "  <tbody>\n",
       "    <tr>\n",
       "      <th>2012-01-27</th>\n",
       "      <td>305785.47</td>\n",
       "      <td>0.0</td>\n",
       "      <td>3176.37</td>\n",
       "      <td>368441.82</td>\n",
       "    </tr>\n",
       "    <tr>\n",
       "      <th>2012-01-28</th>\n",
       "      <td>235492.85</td>\n",
       "      <td>0.0</td>\n",
       "      <td>175.00</td>\n",
       "      <td>82775.80</td>\n",
       "    </tr>\n",
       "    <tr>\n",
       "      <th>2012-01-29</th>\n",
       "      <td>93177.00</td>\n",
       "      <td>0.0</td>\n",
       "      <td>200.00</td>\n",
       "      <td>75220.02</td>\n",
       "    </tr>\n",
       "    <tr>\n",
       "      <th>2012-01-30</th>\n",
       "      <td>435921.72</td>\n",
       "      <td>0.0</td>\n",
       "      <td>130.00</td>\n",
       "      <td>255204.80</td>\n",
       "    </tr>\n",
       "    <tr>\n",
       "      <th>2012-01-31</th>\n",
       "      <td>1418410.31</td>\n",
       "      <td>0.0</td>\n",
       "      <td>150.00</td>\n",
       "      <td>869890.41</td>\n",
       "    </tr>\n",
       "  </tbody>\n",
       "</table>\n",
       "</div>"
      ],
      "text/plain": [
       "party               Democrat  Libertarian   Reform  Republican\n",
       "contb_receipt_dt                                              \n",
       "2012-01-27         305785.47          0.0  3176.37   368441.82\n",
       "2012-01-28         235492.85          0.0   175.00    82775.80\n",
       "2012-01-29          93177.00          0.0   200.00    75220.02\n",
       "2012-01-30         435921.72          0.0   130.00   255204.80\n",
       "2012-01-31        1418410.31          0.0   150.00   869890.41"
      ]
     },
     "metadata": {},
     "output_type": "display_data"
    },
    {
     "data": {
      "text/plain": [
       "(5, 4)"
      ]
     },
     "metadata": {},
     "output_type": "display_data"
    }
   ],
   "source": [
    "s = sums[-5:]\n",
    "display(s,sums[-5:],s.shape)"
   ]
  },
  {
   "cell_type": "code",
   "execution_count": 69,
   "metadata": {},
   "outputs": [
    {
     "data": {
      "text/plain": [
       "party     contb_receipt_dt\n",
       "Democrat  2012-01-27           305785.47\n",
       "          2012-01-28           235492.85\n",
       "          2012-01-29            93177.00\n",
       "          2012-01-30           435921.72\n",
       "          2012-01-31          1418410.31\n",
       "dtype: float64"
      ]
     },
     "execution_count": 69,
     "metadata": {},
     "output_type": "execute_result"
    }
   ],
   "source": [
    "s = s.unstack('party')\n",
    "s.head()"
   ]
  },
  {
   "cell_type": "markdown",
   "metadata": {},
   "source": [
    "【知识点】练习使用级联"
   ]
  },
  {
   "cell_type": "code",
   "execution_count": 74,
   "metadata": {},
   "outputs": [
    {
     "data": {
      "text/html": [
       "<div>\n",
       "<style>\n",
       "    .dataframe thead tr:only-child th {\n",
       "        text-align: right;\n",
       "    }\n",
       "\n",
       "    .dataframe thead th {\n",
       "        text-align: left;\n",
       "    }\n",
       "\n",
       "    .dataframe tbody tr th {\n",
       "        vertical-align: top;\n",
       "    }\n",
       "</style>\n",
       "<table border=\"1\" class=\"dataframe\">\n",
       "  <thead>\n",
       "    <tr style=\"text-align: right;\">\n",
       "      <th>party</th>\n",
       "      <th>Democrat</th>\n",
       "      <th>Libertarian</th>\n",
       "      <th>Reform</th>\n",
       "      <th>Republican</th>\n",
       "    </tr>\n",
       "    <tr>\n",
       "      <th>contb_receipt_dt</th>\n",
       "      <th></th>\n",
       "      <th></th>\n",
       "      <th></th>\n",
       "      <th></th>\n",
       "    </tr>\n",
       "  </thead>\n",
       "  <tbody>\n",
       "    <tr>\n",
       "      <th>2012-01-27</th>\n",
       "      <td>305785.47</td>\n",
       "      <td>0.0</td>\n",
       "      <td>3176.37</td>\n",
       "      <td>368441.82</td>\n",
       "    </tr>\n",
       "    <tr>\n",
       "      <th>2012-01-28</th>\n",
       "      <td>235492.85</td>\n",
       "      <td>0.0</td>\n",
       "      <td>175.00</td>\n",
       "      <td>82775.80</td>\n",
       "    </tr>\n",
       "    <tr>\n",
       "      <th>2012-01-29</th>\n",
       "      <td>93177.00</td>\n",
       "      <td>0.0</td>\n",
       "      <td>200.00</td>\n",
       "      <td>75220.02</td>\n",
       "    </tr>\n",
       "    <tr>\n",
       "      <th>2012-01-30</th>\n",
       "      <td>435921.72</td>\n",
       "      <td>0.0</td>\n",
       "      <td>130.00</td>\n",
       "      <td>255204.80</td>\n",
       "    </tr>\n",
       "    <tr>\n",
       "      <th>2012-01-31</th>\n",
       "      <td>1418410.31</td>\n",
       "      <td>0.0</td>\n",
       "      <td>150.00</td>\n",
       "      <td>869890.41</td>\n",
       "    </tr>\n",
       "  </tbody>\n",
       "</table>\n",
       "</div>"
      ],
      "text/plain": [
       "party               Democrat  Libertarian   Reform  Republican\n",
       "contb_receipt_dt                                              \n",
       "2012-01-27         305785.47          0.0  3176.37   368441.82\n",
       "2012-01-28         235492.85          0.0   175.00    82775.80\n",
       "2012-01-29          93177.00          0.0   200.00    75220.02\n",
       "2012-01-30         435921.72          0.0   130.00   255204.80\n",
       "2012-01-31        1418410.31          0.0   150.00   869890.41"
      ]
     },
     "metadata": {},
     "output_type": "display_data"
    },
    {
     "data": {
      "text/plain": [
       "contb_receipt_dt  party      \n",
       "2012-01-27        Democrat        305785.47\n",
       "                  Libertarian          0.00\n",
       "                  Reform            3176.37\n",
       "                  Republican      368441.82\n",
       "2012-01-28        Democrat        235492.85\n",
       "                  Libertarian          0.00\n",
       "                  Reform             175.00\n",
       "                  Republican       82775.80\n",
       "2012-01-29        Democrat         93177.00\n",
       "                  Libertarian          0.00\n",
       "                  Reform             200.00\n",
       "                  Republican       75220.02\n",
       "2012-01-30        Democrat        435921.72\n",
       "                  Libertarian          0.00\n",
       "                  Reform             130.00\n",
       "                  Republican      255204.80\n",
       "2012-01-31        Democrat       1418410.31\n",
       "                  Libertarian          0.00\n",
       "                  Reform             150.00\n",
       "                  Republican      869890.41\n",
       "dtype: float64"
      ]
     },
     "metadata": {},
     "output_type": "display_data"
    },
    {
     "data": {
      "text/html": [
       "<div>\n",
       "<style>\n",
       "    .dataframe thead tr:only-child th {\n",
       "        text-align: right;\n",
       "    }\n",
       "\n",
       "    .dataframe thead th {\n",
       "        text-align: left;\n",
       "    }\n",
       "\n",
       "    .dataframe tbody tr th {\n",
       "        vertical-align: top;\n",
       "    }\n",
       "</style>\n",
       "<table border=\"1\" class=\"dataframe\">\n",
       "  <thead>\n",
       "    <tr style=\"text-align: right;\">\n",
       "      <th>party</th>\n",
       "      <th>Democrat</th>\n",
       "      <th>Libertarian</th>\n",
       "      <th>Reform</th>\n",
       "      <th>Republican</th>\n",
       "    </tr>\n",
       "    <tr>\n",
       "      <th>contb_receipt_dt</th>\n",
       "      <th></th>\n",
       "      <th></th>\n",
       "      <th></th>\n",
       "      <th></th>\n",
       "    </tr>\n",
       "  </thead>\n",
       "  <tbody>\n",
       "    <tr>\n",
       "      <th>2012-01-27</th>\n",
       "      <td>305785.47</td>\n",
       "      <td>0.0</td>\n",
       "      <td>3176.37</td>\n",
       "      <td>368441.82</td>\n",
       "    </tr>\n",
       "    <tr>\n",
       "      <th>2012-01-28</th>\n",
       "      <td>235492.85</td>\n",
       "      <td>0.0</td>\n",
       "      <td>175.00</td>\n",
       "      <td>82775.80</td>\n",
       "    </tr>\n",
       "    <tr>\n",
       "      <th>2012-01-29</th>\n",
       "      <td>93177.00</td>\n",
       "      <td>0.0</td>\n",
       "      <td>200.00</td>\n",
       "      <td>75220.02</td>\n",
       "    </tr>\n",
       "    <tr>\n",
       "      <th>2012-01-30</th>\n",
       "      <td>435921.72</td>\n",
       "      <td>0.0</td>\n",
       "      <td>130.00</td>\n",
       "      <td>255204.80</td>\n",
       "    </tr>\n",
       "    <tr>\n",
       "      <th>2012-01-31</th>\n",
       "      <td>1418410.31</td>\n",
       "      <td>0.0</td>\n",
       "      <td>150.00</td>\n",
       "      <td>869890.41</td>\n",
       "    </tr>\n",
       "  </tbody>\n",
       "</table>\n",
       "</div>"
      ],
      "text/plain": [
       "party               Democrat  Libertarian   Reform  Republican\n",
       "contb_receipt_dt                                              \n",
       "2012-01-27         305785.47          0.0  3176.37   368441.82\n",
       "2012-01-28         235492.85          0.0   175.00    82775.80\n",
       "2012-01-29          93177.00          0.0   200.00    75220.02\n",
       "2012-01-30         435921.72          0.0   130.00   255204.80\n",
       "2012-01-31        1418410.31          0.0   150.00   869890.41"
      ]
     },
     "metadata": {},
     "output_type": "display_data"
    }
   ],
   "source": [
    "# df = sums[-5:].stack().unstack('party')\n",
    "# df\n",
    "# 练使用级联\n",
    "df1 = sums[-5:].stack()\n",
    "df2 = sums[-5:].stack().unstack('party')\n",
    "display(sums[-5:],df1,df2)"
   ]
  },
  {
   "cell_type": "code",
   "execution_count": 76,
   "metadata": {},
   "outputs": [
    {
     "data": {
      "text/html": [
       "<div>\n",
       "<style>\n",
       "    .dataframe thead tr:only-child th {\n",
       "        text-align: right;\n",
       "    }\n",
       "\n",
       "    .dataframe thead th {\n",
       "        text-align: left;\n",
       "    }\n",
       "\n",
       "    .dataframe tbody tr th {\n",
       "        vertical-align: top;\n",
       "    }\n",
       "</style>\n",
       "<table border=\"1\" class=\"dataframe\">\n",
       "  <thead>\n",
       "    <tr style=\"text-align: right;\">\n",
       "      <th>party</th>\n",
       "      <th>Democrat</th>\n",
       "      <th>Libertarian</th>\n",
       "      <th>Reform</th>\n",
       "      <th>Republican</th>\n",
       "    </tr>\n",
       "    <tr>\n",
       "      <th>contb_receipt_dt</th>\n",
       "      <th></th>\n",
       "      <th></th>\n",
       "      <th></th>\n",
       "      <th></th>\n",
       "    </tr>\n",
       "  </thead>\n",
       "  <tbody>\n",
       "    <tr>\n",
       "      <th>2012-01-27</th>\n",
       "      <td>305785.47</td>\n",
       "      <td>0.0</td>\n",
       "      <td>3176.37</td>\n",
       "      <td>368441.82</td>\n",
       "    </tr>\n",
       "    <tr>\n",
       "      <th>2012-01-28</th>\n",
       "      <td>235492.85</td>\n",
       "      <td>0.0</td>\n",
       "      <td>175.00</td>\n",
       "      <td>82775.80</td>\n",
       "    </tr>\n",
       "    <tr>\n",
       "      <th>2012-01-29</th>\n",
       "      <td>93177.00</td>\n",
       "      <td>0.0</td>\n",
       "      <td>200.00</td>\n",
       "      <td>75220.02</td>\n",
       "    </tr>\n",
       "    <tr>\n",
       "      <th>2012-01-30</th>\n",
       "      <td>435921.72</td>\n",
       "      <td>0.0</td>\n",
       "      <td>130.00</td>\n",
       "      <td>255204.80</td>\n",
       "    </tr>\n",
       "    <tr>\n",
       "      <th>2012-01-31</th>\n",
       "      <td>1418410.31</td>\n",
       "      <td>0.0</td>\n",
       "      <td>150.00</td>\n",
       "      <td>869890.41</td>\n",
       "    </tr>\n",
       "  </tbody>\n",
       "</table>\n",
       "</div>"
      ],
      "text/plain": [
       "party               Democrat  Libertarian   Reform  Republican\n",
       "contb_receipt_dt                                              \n",
       "2012-01-27         305785.47          0.0  3176.37   368441.82\n",
       "2012-01-28         235492.85          0.0   175.00    82775.80\n",
       "2012-01-29          93177.00          0.0   200.00    75220.02\n",
       "2012-01-30         435921.72          0.0   130.00   255204.80\n",
       "2012-01-31        1418410.31          0.0   150.00   869890.41"
      ]
     },
     "metadata": {},
     "output_type": "display_data"
    },
    {
     "data": {
      "text/html": [
       "<div>\n",
       "<style>\n",
       "    .dataframe thead tr:only-child th {\n",
       "        text-align: right;\n",
       "    }\n",
       "\n",
       "    .dataframe thead th {\n",
       "        text-align: left;\n",
       "    }\n",
       "\n",
       "    .dataframe tbody tr th {\n",
       "        vertical-align: top;\n",
       "    }\n",
       "</style>\n",
       "<table border=\"1\" class=\"dataframe\">\n",
       "  <thead>\n",
       "    <tr>\n",
       "      <th></th>\n",
       "      <th colspan=\"4\" halign=\"left\">A</th>\n",
       "      <th colspan=\"4\" halign=\"left\">B</th>\n",
       "    </tr>\n",
       "    <tr>\n",
       "      <th>party</th>\n",
       "      <th>Democrat</th>\n",
       "      <th>Libertarian</th>\n",
       "      <th>Reform</th>\n",
       "      <th>Republican</th>\n",
       "      <th>Democrat</th>\n",
       "      <th>Libertarian</th>\n",
       "      <th>Reform</th>\n",
       "      <th>Republican</th>\n",
       "    </tr>\n",
       "    <tr>\n",
       "      <th>contb_receipt_dt</th>\n",
       "      <th></th>\n",
       "      <th></th>\n",
       "      <th></th>\n",
       "      <th></th>\n",
       "      <th></th>\n",
       "      <th></th>\n",
       "      <th></th>\n",
       "      <th></th>\n",
       "    </tr>\n",
       "  </thead>\n",
       "  <tbody>\n",
       "    <tr>\n",
       "      <th>2012-01-27</th>\n",
       "      <td>305785.47</td>\n",
       "      <td>0.0</td>\n",
       "      <td>3176.37</td>\n",
       "      <td>368441.82</td>\n",
       "      <td>305785.47</td>\n",
       "      <td>0.0</td>\n",
       "      <td>3176.37</td>\n",
       "      <td>368441.82</td>\n",
       "    </tr>\n",
       "    <tr>\n",
       "      <th>2012-01-28</th>\n",
       "      <td>235492.85</td>\n",
       "      <td>0.0</td>\n",
       "      <td>175.00</td>\n",
       "      <td>82775.80</td>\n",
       "      <td>235492.85</td>\n",
       "      <td>0.0</td>\n",
       "      <td>175.00</td>\n",
       "      <td>82775.80</td>\n",
       "    </tr>\n",
       "    <tr>\n",
       "      <th>2012-01-29</th>\n",
       "      <td>93177.00</td>\n",
       "      <td>0.0</td>\n",
       "      <td>200.00</td>\n",
       "      <td>75220.02</td>\n",
       "      <td>93177.00</td>\n",
       "      <td>0.0</td>\n",
       "      <td>200.00</td>\n",
       "      <td>75220.02</td>\n",
       "    </tr>\n",
       "    <tr>\n",
       "      <th>2012-01-30</th>\n",
       "      <td>435921.72</td>\n",
       "      <td>0.0</td>\n",
       "      <td>130.00</td>\n",
       "      <td>255204.80</td>\n",
       "      <td>435921.72</td>\n",
       "      <td>0.0</td>\n",
       "      <td>130.00</td>\n",
       "      <td>255204.80</td>\n",
       "    </tr>\n",
       "    <tr>\n",
       "      <th>2012-01-31</th>\n",
       "      <td>1418410.31</td>\n",
       "      <td>0.0</td>\n",
       "      <td>150.00</td>\n",
       "      <td>869890.41</td>\n",
       "      <td>1418410.31</td>\n",
       "      <td>0.0</td>\n",
       "      <td>150.00</td>\n",
       "      <td>869890.41</td>\n",
       "    </tr>\n",
       "  </tbody>\n",
       "</table>\n",
       "</div>"
      ],
      "text/plain": [
       "                           A                                           B  \\\n",
       "party               Democrat Libertarian   Reform Republican    Democrat   \n",
       "contb_receipt_dt                                                           \n",
       "2012-01-27         305785.47         0.0  3176.37  368441.82   305785.47   \n",
       "2012-01-28         235492.85         0.0   175.00   82775.80   235492.85   \n",
       "2012-01-29          93177.00         0.0   200.00   75220.02    93177.00   \n",
       "2012-01-30         435921.72         0.0   130.00  255204.80   435921.72   \n",
       "2012-01-31        1418410.31         0.0   150.00  869890.41  1418410.31   \n",
       "\n",
       "                                                  \n",
       "party            Libertarian   Reform Republican  \n",
       "contb_receipt_dt                                  \n",
       "2012-01-27               0.0  3176.37  368441.82  \n",
       "2012-01-28               0.0   175.00   82775.80  \n",
       "2012-01-29               0.0   200.00   75220.02  \n",
       "2012-01-30               0.0   130.00  255204.80  \n",
       "2012-01-31               0.0   150.00  869890.41  "
      ]
     },
     "metadata": {},
     "output_type": "display_data"
    },
    {
     "data": {
      "text/html": [
       "<div>\n",
       "<style>\n",
       "    .dataframe thead tr:only-child th {\n",
       "        text-align: right;\n",
       "    }\n",
       "\n",
       "    .dataframe thead th {\n",
       "        text-align: left;\n",
       "    }\n",
       "\n",
       "    .dataframe tbody tr th {\n",
       "        vertical-align: top;\n",
       "    }\n",
       "</style>\n",
       "<table border=\"1\" class=\"dataframe\">\n",
       "  <thead>\n",
       "    <tr style=\"text-align: right;\">\n",
       "      <th></th>\n",
       "      <th>party</th>\n",
       "      <th>Democrat</th>\n",
       "      <th>Libertarian</th>\n",
       "      <th>Reform</th>\n",
       "      <th>Republican</th>\n",
       "    </tr>\n",
       "    <tr>\n",
       "      <th></th>\n",
       "      <th>contb_receipt_dt</th>\n",
       "      <th></th>\n",
       "      <th></th>\n",
       "      <th></th>\n",
       "      <th></th>\n",
       "    </tr>\n",
       "  </thead>\n",
       "  <tbody>\n",
       "    <tr>\n",
       "      <th rowspan=\"5\" valign=\"top\">A</th>\n",
       "      <th>2012-01-27</th>\n",
       "      <td>305785.47</td>\n",
       "      <td>0.0</td>\n",
       "      <td>3176.37</td>\n",
       "      <td>368441.82</td>\n",
       "    </tr>\n",
       "    <tr>\n",
       "      <th>2012-01-28</th>\n",
       "      <td>235492.85</td>\n",
       "      <td>0.0</td>\n",
       "      <td>175.00</td>\n",
       "      <td>82775.80</td>\n",
       "    </tr>\n",
       "    <tr>\n",
       "      <th>2012-01-29</th>\n",
       "      <td>93177.00</td>\n",
       "      <td>0.0</td>\n",
       "      <td>200.00</td>\n",
       "      <td>75220.02</td>\n",
       "    </tr>\n",
       "    <tr>\n",
       "      <th>2012-01-30</th>\n",
       "      <td>435921.72</td>\n",
       "      <td>0.0</td>\n",
       "      <td>130.00</td>\n",
       "      <td>255204.80</td>\n",
       "    </tr>\n",
       "    <tr>\n",
       "      <th>2012-01-31</th>\n",
       "      <td>1418410.31</td>\n",
       "      <td>0.0</td>\n",
       "      <td>150.00</td>\n",
       "      <td>869890.41</td>\n",
       "    </tr>\n",
       "    <tr>\n",
       "      <th rowspan=\"5\" valign=\"top\">B</th>\n",
       "      <th>2012-01-27</th>\n",
       "      <td>305785.47</td>\n",
       "      <td>0.0</td>\n",
       "      <td>3176.37</td>\n",
       "      <td>368441.82</td>\n",
       "    </tr>\n",
       "    <tr>\n",
       "      <th>2012-01-28</th>\n",
       "      <td>235492.85</td>\n",
       "      <td>0.0</td>\n",
       "      <td>175.00</td>\n",
       "      <td>82775.80</td>\n",
       "    </tr>\n",
       "    <tr>\n",
       "      <th>2012-01-29</th>\n",
       "      <td>93177.00</td>\n",
       "      <td>0.0</td>\n",
       "      <td>200.00</td>\n",
       "      <td>75220.02</td>\n",
       "    </tr>\n",
       "    <tr>\n",
       "      <th>2012-01-30</th>\n",
       "      <td>435921.72</td>\n",
       "      <td>0.0</td>\n",
       "      <td>130.00</td>\n",
       "      <td>255204.80</td>\n",
       "    </tr>\n",
       "    <tr>\n",
       "      <th>2012-01-31</th>\n",
       "      <td>1418410.31</td>\n",
       "      <td>0.0</td>\n",
       "      <td>150.00</td>\n",
       "      <td>869890.41</td>\n",
       "    </tr>\n",
       "  </tbody>\n",
       "</table>\n",
       "</div>"
      ],
      "text/plain": [
       "party                 Democrat  Libertarian   Reform  Republican\n",
       "  contb_receipt_dt                                              \n",
       "A 2012-01-27         305785.47          0.0  3176.37   368441.82\n",
       "  2012-01-28         235492.85          0.0   175.00    82775.80\n",
       "  2012-01-29          93177.00          0.0   200.00    75220.02\n",
       "  2012-01-30         435921.72          0.0   130.00   255204.80\n",
       "  2012-01-31        1418410.31          0.0   150.00   869890.41\n",
       "B 2012-01-27         305785.47          0.0  3176.37   368441.82\n",
       "  2012-01-28         235492.85          0.0   175.00    82775.80\n",
       "  2012-01-29          93177.00          0.0   200.00    75220.02\n",
       "  2012-01-30         435921.72          0.0   130.00   255204.80\n",
       "  2012-01-31        1418410.31          0.0   150.00   869890.41"
      ]
     },
     "metadata": {},
     "output_type": "display_data"
    }
   ],
   "source": [
    "# pd.concat([df,df],axis = 1,keys = ['A','B'])\n",
    "dfc1 = pd.concat([df2,df2],axis = 1,keys = ['A','B'])\n",
    "dfc2 = pd.concat([df2,df2],axis = 0,keys = ['A','B'])\n",
    "display(df2,dfc1,dfc2)"
   ]
  },
  {
   "cell_type": "markdown",
   "metadata": {},
   "source": [
    "使用stack()把party变成二级行索引"
   ]
  },
  {
   "cell_type": "code",
   "execution_count": 81,
   "metadata": {},
   "outputs": [
    {
     "data": {
      "text/html": [
       "<div>\n",
       "<style>\n",
       "    .dataframe thead tr:only-child th {\n",
       "        text-align: right;\n",
       "    }\n",
       "\n",
       "    .dataframe thead th {\n",
       "        text-align: left;\n",
       "    }\n",
       "\n",
       "    .dataframe tbody tr th {\n",
       "        vertical-align: top;\n",
       "    }\n",
       "</style>\n",
       "<table border=\"1\" class=\"dataframe\">\n",
       "  <thead>\n",
       "    <tr style=\"text-align: right;\">\n",
       "      <th>party</th>\n",
       "      <th>Democrat</th>\n",
       "      <th>Libertarian</th>\n",
       "      <th>Reform</th>\n",
       "      <th>Republican</th>\n",
       "    </tr>\n",
       "    <tr>\n",
       "      <th>contb_receipt_dt</th>\n",
       "      <th></th>\n",
       "      <th></th>\n",
       "      <th></th>\n",
       "      <th></th>\n",
       "    </tr>\n",
       "  </thead>\n",
       "  <tbody>\n",
       "    <tr>\n",
       "      <th>2012-01-27</th>\n",
       "      <td>305785.47</td>\n",
       "      <td>0.0</td>\n",
       "      <td>3176.37</td>\n",
       "      <td>368441.82</td>\n",
       "    </tr>\n",
       "    <tr>\n",
       "      <th>2012-01-28</th>\n",
       "      <td>235492.85</td>\n",
       "      <td>0.0</td>\n",
       "      <td>175.00</td>\n",
       "      <td>82775.80</td>\n",
       "    </tr>\n",
       "    <tr>\n",
       "      <th>2012-01-29</th>\n",
       "      <td>93177.00</td>\n",
       "      <td>0.0</td>\n",
       "      <td>200.00</td>\n",
       "      <td>75220.02</td>\n",
       "    </tr>\n",
       "    <tr>\n",
       "      <th>2012-01-30</th>\n",
       "      <td>435921.72</td>\n",
       "      <td>0.0</td>\n",
       "      <td>130.00</td>\n",
       "      <td>255204.80</td>\n",
       "    </tr>\n",
       "    <tr>\n",
       "      <th>2012-01-31</th>\n",
       "      <td>1418410.31</td>\n",
       "      <td>0.0</td>\n",
       "      <td>150.00</td>\n",
       "      <td>869890.41</td>\n",
       "    </tr>\n",
       "  </tbody>\n",
       "</table>\n",
       "</div>"
      ],
      "text/plain": [
       "party               Democrat  Libertarian   Reform  Republican\n",
       "contb_receipt_dt                                              \n",
       "2012-01-27         305785.47          0.0  3176.37   368441.82\n",
       "2012-01-28         235492.85          0.0   175.00    82775.80\n",
       "2012-01-29          93177.00          0.0   200.00    75220.02\n",
       "2012-01-30         435921.72          0.0   130.00   255204.80\n",
       "2012-01-31        1418410.31          0.0   150.00   869890.41"
      ]
     },
     "metadata": {},
     "output_type": "display_data"
    },
    {
     "data": {
      "text/plain": [
       "(20,)"
      ]
     },
     "metadata": {},
     "output_type": "display_data"
    },
    {
     "data": {
      "text/plain": [
       "pandas.core.series.Series"
      ]
     },
     "metadata": {},
     "output_type": "display_data"
    },
    {
     "data": {
      "text/plain": [
       "305785.47000000003"
      ]
     },
     "metadata": {},
     "output_type": "display_data"
    }
   ],
   "source": [
    "ss = df2.stack()\n",
    "display(df2,ss.shape,type(ss),ss,ss['2012-01-27']['Democrat'])"
   ]
  },
  {
   "cell_type": "markdown",
   "metadata": {},
   "source": [
    "查看候选人姓名cand_nm和政治献金捐献者职业contbr_occupation，以及捐献情况。能看出各个候选人主要的支持者分布情况"
   ]
  },
  {
   "cell_type": "code",
   "execution_count": 83,
   "metadata": {},
   "outputs": [
    {
     "data": {
      "text/plain": [
       "pandas.core.series.Series"
      ]
     },
     "metadata": {},
     "output_type": "display_data"
    },
    {
     "data": {
      "text/plain": [
       "cand_nm             contbr_occupation       \n",
       "Bachmann, Michelle  ACCOUNTING                   350.0\n",
       "                    ACCOUNTING MANAGER            50.0\n",
       "                    ACCOUNTING SPECIALIST        250.0\n",
       "                    ACCOUNTING SUPERVISOR        125.0\n",
       "                    ACCOUNTING/AUDITING          700.0\n",
       "                    ACTIVE DUTY MILITARY         125.0\n",
       "                    ACTRESS                      601.0\n",
       "                    ACTUARY                     1050.0\n",
       "                    AD EXEC                      401.0\n",
       "                    ADJURET ASST. PROF            31.0\n",
       "                    ADJUSTER                     250.0\n",
       "                    ADMIN. ASSISTANT             250.0\n",
       "                    ADMINISNATIVE ASST           125.0\n",
       "                    ADMINISTRATION              1245.0\n",
       "                    ADMINISTRATIVE ASSISTANT     300.0\n",
       "                    ADMINISTRATIVE EXECUTIVE     200.0\n",
       "                    ADMINISTRATIVE LAW JUDGE     575.0\n",
       "                    ADMINISTRATIVE MED PRAC      100.0\n",
       "                    ADMINISTRATOR               4587.0\n",
       "                    ADMINSTRATOR                 300.0\n",
       "Name: contb_receipt_amt, dtype: float64"
      ]
     },
     "metadata": {},
     "output_type": "display_data"
    }
   ],
   "source": [
    "result = fec.groupby(['cand_nm','contbr_occupation'])['contb_receipt_amt'].sum()\n",
    "display(type(result),result[10:30])"
   ]
  },
  {
   "cell_type": "code",
   "execution_count": 33,
   "metadata": {},
   "outputs": [
    {
     "data": {
      "text/plain": [
       "(40161,)"
      ]
     },
     "execution_count": 33,
     "metadata": {},
     "output_type": "execute_result"
    }
   ],
   "source": [
    "result.shape"
   ]
  },
  {
   "cell_type": "markdown",
   "metadata": {},
   "source": [
    "查看老兵主要支持谁"
   ]
  },
  {
   "cell_type": "code",
   "execution_count": 91,
   "metadata": {},
   "outputs": [
    {
     "data": {
      "text/plain": [
       "cand_nm\n",
       "Cain, Herman       300.00\n",
       "Obama, Barack     4205.00\n",
       "Paul, Ron         2425.49\n",
       "Santorum, Rick     250.00\n",
       "Name: contb_receipt_amt, dtype: float64"
      ]
     },
     "execution_count": 91,
     "metadata": {},
     "output_type": "execute_result"
    }
   ],
   "source": [
    "result[:,'DISABLED VETERAN']"
   ]
  },
  {
   "cell_type": "markdown",
   "metadata": {},
   "source": [
    "查看各个候选人在各个行业的支持情况"
   ]
  },
  {
   "cell_type": "code",
   "execution_count": 116,
   "metadata": {},
   "outputs": [
    {
     "data": {
      "text/plain": [
       "pandas.core.series.Series"
      ]
     },
     "metadata": {},
     "output_type": "display_data"
    },
    {
     "data": {
      "text/plain": [
       "cand_nm             contbr_occupation             \n",
       "Bachmann, Michelle  100% DISABLED VETERAN             1869.50\n",
       "                    100% DISABLED VIETNAM VETERAN      236.25\n",
       "                    A/C AND HEAT                       250.00\n",
       "                    ACADEMIC EMPLOYMENT SPECIALIST      25.00\n",
       "                    ACCOUNT                             50.00\n",
       "Name: contb_receipt_amt, dtype: float64"
      ]
     },
     "metadata": {},
     "output_type": "display_data"
    }
   ],
   "source": [
    "result = fec.groupby(['cand_nm','contbr_occupation'])['contb_receipt_amt'].sum()\n",
    "display(type(result),result.head())"
   ]
  },
  {
   "cell_type": "markdown",
   "metadata": {},
   "source": [
    "把索引变成列"
   ]
  },
  {
   "cell_type": "code",
   "execution_count": 117,
   "metadata": {},
   "outputs": [
    {
     "data": {
      "text/html": [
       "<div>\n",
       "<style>\n",
       "    .dataframe thead tr:only-child th {\n",
       "        text-align: right;\n",
       "    }\n",
       "\n",
       "    .dataframe thead th {\n",
       "        text-align: left;\n",
       "    }\n",
       "\n",
       "    .dataframe tbody tr th {\n",
       "        vertical-align: top;\n",
       "    }\n",
       "</style>\n",
       "<table border=\"1\" class=\"dataframe\">\n",
       "  <thead>\n",
       "    <tr style=\"text-align: right;\">\n",
       "      <th></th>\n",
       "      <th>cand_nm</th>\n",
       "      <th>contbr_occupation</th>\n",
       "      <th>contb_receipt_amt</th>\n",
       "    </tr>\n",
       "  </thead>\n",
       "  <tbody>\n",
       "    <tr>\n",
       "      <th>0</th>\n",
       "      <td>Bachmann, Michelle</td>\n",
       "      <td>100% DISABLED VETERAN</td>\n",
       "      <td>1869.50</td>\n",
       "    </tr>\n",
       "    <tr>\n",
       "      <th>1</th>\n",
       "      <td>Bachmann, Michelle</td>\n",
       "      <td>100% DISABLED VIETNAM VETERAN</td>\n",
       "      <td>236.25</td>\n",
       "    </tr>\n",
       "    <tr>\n",
       "      <th>2</th>\n",
       "      <td>Bachmann, Michelle</td>\n",
       "      <td>A/C AND HEAT</td>\n",
       "      <td>250.00</td>\n",
       "    </tr>\n",
       "    <tr>\n",
       "      <th>3</th>\n",
       "      <td>Bachmann, Michelle</td>\n",
       "      <td>ACADEMIC EMPLOYMENT SPECIALIST</td>\n",
       "      <td>25.00</td>\n",
       "    </tr>\n",
       "    <tr>\n",
       "      <th>4</th>\n",
       "      <td>Bachmann, Michelle</td>\n",
       "      <td>ACCOUNT</td>\n",
       "      <td>50.00</td>\n",
       "    </tr>\n",
       "  </tbody>\n",
       "</table>\n",
       "</div>"
      ],
      "text/plain": [
       "              cand_nm               contbr_occupation  contb_receipt_amt\n",
       "0  Bachmann, Michelle           100% DISABLED VETERAN            1869.50\n",
       "1  Bachmann, Michelle   100% DISABLED VIETNAM VETERAN             236.25\n",
       "2  Bachmann, Michelle                    A/C AND HEAT             250.00\n",
       "3  Bachmann, Michelle  ACADEMIC EMPLOYMENT SPECIALIST              25.00\n",
       "4  Bachmann, Michelle                         ACCOUNT              50.00"
      ]
     },
     "execution_count": 117,
     "metadata": {},
     "output_type": "execute_result"
    }
   ],
   "source": [
    "result = result.reset_index()\n",
    "result.head()"
   ]
  },
  {
   "cell_type": "markdown",
   "metadata": {},
   "source": [
    "找出各个候选人的捐赠者中，捐赠金额最大的人的职业以及捐献额"
   ]
  },
  {
   "cell_type": "code",
   "execution_count": 126,
   "metadata": {},
   "outputs": [
    {
     "data": {
      "text/plain": [
       "(13, 1)"
      ]
     },
     "metadata": {},
     "output_type": "display_data"
    },
    {
     "data": {
      "text/html": [
       "<div>\n",
       "<style>\n",
       "    .dataframe thead tr:only-child th {\n",
       "        text-align: right;\n",
       "    }\n",
       "\n",
       "    .dataframe thead th {\n",
       "        text-align: left;\n",
       "    }\n",
       "\n",
       "    .dataframe tbody tr th {\n",
       "        vertical-align: top;\n",
       "    }\n",
       "</style>\n",
       "<table border=\"1\" class=\"dataframe\">\n",
       "  <thead>\n",
       "    <tr style=\"text-align: right;\">\n",
       "      <th></th>\n",
       "      <th>contb_receipt_amt</th>\n",
       "    </tr>\n",
       "    <tr>\n",
       "      <th>cand_nm</th>\n",
       "      <th></th>\n",
       "    </tr>\n",
       "  </thead>\n",
       "  <tbody>\n",
       "    <tr>\n",
       "      <th>Bachmann, Michelle</th>\n",
       "      <td>3022.00</td>\n",
       "    </tr>\n",
       "    <tr>\n",
       "      <th>Cain, Herman</th>\n",
       "      <td>10000.00</td>\n",
       "    </tr>\n",
       "    <tr>\n",
       "      <th>Gingrich, Newt</th>\n",
       "      <td>5100.00</td>\n",
       "    </tr>\n",
       "    <tr>\n",
       "      <th>Huntsman, Jon</th>\n",
       "      <td>5000.00</td>\n",
       "    </tr>\n",
       "    <tr>\n",
       "      <th>Johnson, Gary Earl</th>\n",
       "      <td>2500.00</td>\n",
       "    </tr>\n",
       "    <tr>\n",
       "      <th>McCotter, Thaddeus G</th>\n",
       "      <td>4000.00</td>\n",
       "    </tr>\n",
       "    <tr>\n",
       "      <th>Obama, Barack</th>\n",
       "      <td>1944042.43</td>\n",
       "    </tr>\n",
       "    <tr>\n",
       "      <th>Paul, Ron</th>\n",
       "      <td>5000.00</td>\n",
       "    </tr>\n",
       "    <tr>\n",
       "      <th>Pawlenty, Timothy</th>\n",
       "      <td>10000.00</td>\n",
       "    </tr>\n",
       "    <tr>\n",
       "      <th>Perry, Rick</th>\n",
       "      <td>10000.00</td>\n",
       "    </tr>\n",
       "    <tr>\n",
       "      <th>Roemer, Charles E. 'Buddy' III</th>\n",
       "      <td>200.00</td>\n",
       "    </tr>\n",
       "    <tr>\n",
       "      <th>Romney, Mitt</th>\n",
       "      <td>12700.00</td>\n",
       "    </tr>\n",
       "    <tr>\n",
       "      <th>Santorum, Rick</th>\n",
       "      <td>5000.00</td>\n",
       "    </tr>\n",
       "  </tbody>\n",
       "</table>\n",
       "</div>"
      ],
      "text/plain": [
       "                                contb_receipt_amt\n",
       "cand_nm                                          \n",
       "Bachmann, Michelle                        3022.00\n",
       "Cain, Herman                             10000.00\n",
       "Gingrich, Newt                            5100.00\n",
       "Huntsman, Jon                             5000.00\n",
       "Johnson, Gary Earl                        2500.00\n",
       "McCotter, Thaddeus G                      4000.00\n",
       "Obama, Barack                          1944042.43\n",
       "Paul, Ron                                 5000.00\n",
       "Pawlenty, Timothy                        10000.00\n",
       "Perry, Rick                              10000.00\n",
       "Roemer, Charles E. 'Buddy' III             200.00\n",
       "Romney, Mitt                             12700.00\n",
       "Santorum, Rick                            5000.00"
      ]
     },
     "metadata": {},
     "output_type": "display_data"
    }
   ],
   "source": [
    "result = fec.groupby('cand_nm')['contb_receipt_amt','contbr_occupation'].apply(max)\n",
    "display(result.shape,result)"
   ]
  },
  {
   "cell_type": "markdown",
   "metadata": {},
   "source": [
    "找出各个候选人的捐赠者中，捐赠金额最大的人的职业以及捐献额"
   ]
  },
  {
   "cell_type": "code",
   "execution_count": 127,
   "metadata": {
    "collapsed": true
   },
   "outputs": [],
   "source": [
    "def top5_donor(group):\n",
    "    return group.sort_values(by = 'contb_receipt_amt')[-5:][::-1]"
   ]
  },
  {
   "cell_type": "code",
   "execution_count": 128,
   "metadata": {},
   "outputs": [
    {
     "data": {
      "text/html": [
       "<div>\n",
       "<style>\n",
       "    .dataframe thead tr:only-child th {\n",
       "        text-align: right;\n",
       "    }\n",
       "\n",
       "    .dataframe thead th {\n",
       "        text-align: left;\n",
       "    }\n",
       "\n",
       "    .dataframe tbody tr th {\n",
       "        vertical-align: top;\n",
       "    }\n",
       "</style>\n",
       "<table border=\"1\" class=\"dataframe\">\n",
       "  <thead>\n",
       "    <tr style=\"text-align: right;\">\n",
       "      <th></th>\n",
       "      <th></th>\n",
       "      <th>contbr_occupation</th>\n",
       "      <th>contb_receipt_amt</th>\n",
       "    </tr>\n",
       "    <tr>\n",
       "      <th>cand_nm</th>\n",
       "      <th></th>\n",
       "      <th></th>\n",
       "      <th></th>\n",
       "    </tr>\n",
       "  </thead>\n",
       "  <tbody>\n",
       "    <tr>\n",
       "      <th rowspan=\"5\" valign=\"top\">Bachmann, Michelle</th>\n",
       "      <th>514665</th>\n",
       "      <td>GOVERNMENT MEMBER</td>\n",
       "      <td>3022.00</td>\n",
       "    </tr>\n",
       "    <tr>\n",
       "      <th>512441</th>\n",
       "      <td>FARMER</td>\n",
       "      <td>2500.00</td>\n",
       "    </tr>\n",
       "    <tr>\n",
       "      <th>514071</th>\n",
       "      <td>SALES</td>\n",
       "      <td>2500.00</td>\n",
       "    </tr>\n",
       "    <tr>\n",
       "      <th>516481</th>\n",
       "      <td>RETIRED</td>\n",
       "      <td>2500.00</td>\n",
       "    </tr>\n",
       "    <tr>\n",
       "      <th>516480</th>\n",
       "      <td>RETIRED</td>\n",
       "      <td>2500.00</td>\n",
       "    </tr>\n",
       "    <tr>\n",
       "      <th rowspan=\"5\" valign=\"top\">Cain, Herman</th>\n",
       "      <th>478807</th>\n",
       "      <td>INFORMATION REQUESTED</td>\n",
       "      <td>10000.00</td>\n",
       "    </tr>\n",
       "    <tr>\n",
       "      <th>475327</th>\n",
       "      <td>CFO</td>\n",
       "      <td>5200.00</td>\n",
       "    </tr>\n",
       "    <tr>\n",
       "      <th>472387</th>\n",
       "      <td>CEO</td>\n",
       "      <td>5000.00</td>\n",
       "    </tr>\n",
       "    <tr>\n",
       "      <th>472774</th>\n",
       "      <td>INFORMATION REQUESTED</td>\n",
       "      <td>5000.00</td>\n",
       "    </tr>\n",
       "    <tr>\n",
       "      <th>462251</th>\n",
       "      <td>INFORMATION REQUESTED</td>\n",
       "      <td>5000.00</td>\n",
       "    </tr>\n",
       "    <tr>\n",
       "      <th rowspan=\"5\" valign=\"top\">Gingrich, Newt</th>\n",
       "      <th>488731</th>\n",
       "      <td>RETIRED</td>\n",
       "      <td>5100.00</td>\n",
       "    </tr>\n",
       "    <tr>\n",
       "      <th>496693</th>\n",
       "      <td>EXECUTIVE VICE PRESIDENT</td>\n",
       "      <td>5000.00</td>\n",
       "    </tr>\n",
       "    <tr>\n",
       "      <th>487594</th>\n",
       "      <td>RETIRED</td>\n",
       "      <td>5000.00</td>\n",
       "    </tr>\n",
       "    <tr>\n",
       "      <th>486806</th>\n",
       "      <td>EXECUTIVE</td>\n",
       "      <td>5000.00</td>\n",
       "    </tr>\n",
       "    <tr>\n",
       "      <th>503525</th>\n",
       "      <td>OILFIELD WATER TRANSFER</td>\n",
       "      <td>5000.00</td>\n",
       "    </tr>\n",
       "    <tr>\n",
       "      <th rowspan=\"5\" valign=\"top\">Huntsman, Jon</th>\n",
       "      <th>518904</th>\n",
       "      <td>INVESTMENT MANAGEMENT</td>\n",
       "      <td>5000.00</td>\n",
       "    </tr>\n",
       "    <tr>\n",
       "      <th>521582</th>\n",
       "      <td>INFORMATION REQUESTED PER BEST EFFORTS</td>\n",
       "      <td>5000.00</td>\n",
       "    </tr>\n",
       "    <tr>\n",
       "      <th>521155</th>\n",
       "      <td>FINANCE</td>\n",
       "      <td>5000.00</td>\n",
       "    </tr>\n",
       "    <tr>\n",
       "      <th>519065</th>\n",
       "      <td>HOMEMAKER</td>\n",
       "      <td>5000.00</td>\n",
       "    </tr>\n",
       "    <tr>\n",
       "      <th>518946</th>\n",
       "      <td>SELF-EMPLOYED</td>\n",
       "      <td>5000.00</td>\n",
       "    </tr>\n",
       "    <tr>\n",
       "      <th rowspan=\"5\" valign=\"top\">Johnson, Gary Earl</th>\n",
       "      <th>361664</th>\n",
       "      <td>RETIRED</td>\n",
       "      <td>2500.00</td>\n",
       "    </tr>\n",
       "    <tr>\n",
       "      <th>361171</th>\n",
       "      <td>NO RESPONSE BY FEB 22 2012</td>\n",
       "      <td>2500.00</td>\n",
       "    </tr>\n",
       "    <tr>\n",
       "      <th>361190</th>\n",
       "      <td>CFO</td>\n",
       "      <td>2500.00</td>\n",
       "    </tr>\n",
       "    <tr>\n",
       "      <th>361681</th>\n",
       "      <td>RETIRED</td>\n",
       "      <td>2500.00</td>\n",
       "    </tr>\n",
       "    <tr>\n",
       "      <th>361186</th>\n",
       "      <td>OPERATIONS MANAGER</td>\n",
       "      <td>2500.00</td>\n",
       "    </tr>\n",
       "    <tr>\n",
       "      <th rowspan=\"5\" valign=\"top\">McCotter, Thaddeus G</th>\n",
       "      <th>518503</th>\n",
       "      <td>HOMEMAKER</td>\n",
       "      <td>4000.00</td>\n",
       "    </tr>\n",
       "    <tr>\n",
       "      <th>518488</th>\n",
       "      <td>GOVERNMENT</td>\n",
       "      <td>2500.00</td>\n",
       "    </tr>\n",
       "    <tr>\n",
       "      <th>518531</th>\n",
       "      <td>PRODUCTION COMPANY</td>\n",
       "      <td>2400.00</td>\n",
       "    </tr>\n",
       "    <tr>\n",
       "      <th>518505</th>\n",
       "      <td>FINANCE</td>\n",
       "      <td>2000.00</td>\n",
       "    </tr>\n",
       "    <tr>\n",
       "      <th>518494</th>\n",
       "      <td>EXECUTIVE</td>\n",
       "      <td>1500.00</td>\n",
       "    </tr>\n",
       "    <tr>\n",
       "      <th>...</th>\n",
       "      <th>...</th>\n",
       "      <td>...</td>\n",
       "      <td>...</td>\n",
       "    </tr>\n",
       "    <tr>\n",
       "      <th rowspan=\"5\" valign=\"top\">Paul, Ron</th>\n",
       "      <th>373256</th>\n",
       "      <td>LAW</td>\n",
       "      <td>5000.00</td>\n",
       "    </tr>\n",
       "    <tr>\n",
       "      <th>410394</th>\n",
       "      <td>CLERGY</td>\n",
       "      <td>3000.00</td>\n",
       "    </tr>\n",
       "    <tr>\n",
       "      <th>388203</th>\n",
       "      <td>NONE</td>\n",
       "      <td>2500.00</td>\n",
       "    </tr>\n",
       "    <tr>\n",
       "      <th>364223</th>\n",
       "      <td>RETIRED</td>\n",
       "      <td>2500.00</td>\n",
       "    </tr>\n",
       "    <tr>\n",
       "      <th>433181</th>\n",
       "      <td>ENGINEER</td>\n",
       "      <td>2500.00</td>\n",
       "    </tr>\n",
       "    <tr>\n",
       "      <th rowspan=\"5\" valign=\"top\">Pawlenty, Timothy</th>\n",
       "      <th>358179</th>\n",
       "      <td>INVESTMENT MANAGER</td>\n",
       "      <td>10000.00</td>\n",
       "    </tr>\n",
       "    <tr>\n",
       "      <th>359299</th>\n",
       "      <td>CEO</td>\n",
       "      <td>10000.00</td>\n",
       "    </tr>\n",
       "    <tr>\n",
       "      <th>357214</th>\n",
       "      <td>INFORMATION REQUESTED PER BEST EFFORTS</td>\n",
       "      <td>10000.00</td>\n",
       "    </tr>\n",
       "    <tr>\n",
       "      <th>358537</th>\n",
       "      <td>PRESIDENT &amp; C.E.O.</td>\n",
       "      <td>10000.00</td>\n",
       "    </tr>\n",
       "    <tr>\n",
       "      <th>359005</th>\n",
       "      <td>GENERAL MANAGER</td>\n",
       "      <td>10000.00</td>\n",
       "    </tr>\n",
       "    <tr>\n",
       "      <th rowspan=\"5\" valign=\"top\">Perry, Rick</th>\n",
       "      <th>527700</th>\n",
       "      <td>PRESIDENT</td>\n",
       "      <td>10000.00</td>\n",
       "    </tr>\n",
       "    <tr>\n",
       "      <th>536040</th>\n",
       "      <td>INFORMATION REQUESTED PER BEST EFFORTS</td>\n",
       "      <td>5000.00</td>\n",
       "    </tr>\n",
       "    <tr>\n",
       "      <th>526354</th>\n",
       "      <td>CEO</td>\n",
       "      <td>5000.00</td>\n",
       "    </tr>\n",
       "    <tr>\n",
       "      <th>525084</th>\n",
       "      <td>EXECUTIVE</td>\n",
       "      <td>5000.00</td>\n",
       "    </tr>\n",
       "    <tr>\n",
       "      <th>531278</th>\n",
       "      <td>CONSULTANT</td>\n",
       "      <td>5000.00</td>\n",
       "    </tr>\n",
       "    <tr>\n",
       "      <th rowspan=\"5\" valign=\"top\">Roemer, Charles E. 'Buddy' III</th>\n",
       "      <th>353444</th>\n",
       "      <td>RETIRED</td>\n",
       "      <td>200.00</td>\n",
       "    </tr>\n",
       "    <tr>\n",
       "      <th>353577</th>\n",
       "      <td>INSURANCE AGENT</td>\n",
       "      <td>200.00</td>\n",
       "    </tr>\n",
       "    <tr>\n",
       "      <th>353119</th>\n",
       "      <td>ATTORNEY</td>\n",
       "      <td>200.00</td>\n",
       "    </tr>\n",
       "    <tr>\n",
       "      <th>353581</th>\n",
       "      <td>CPA</td>\n",
       "      <td>200.00</td>\n",
       "    </tr>\n",
       "    <tr>\n",
       "      <th>353808</th>\n",
       "      <td>INFORMATION REQUESTED</td>\n",
       "      <td>200.00</td>\n",
       "    </tr>\n",
       "    <tr>\n",
       "      <th rowspan=\"5\" valign=\"top\">Romney, Mitt</th>\n",
       "      <th>35412</th>\n",
       "      <td>NaN</td>\n",
       "      <td>12700.00</td>\n",
       "    </tr>\n",
       "    <tr>\n",
       "      <th>56140</th>\n",
       "      <td>PRESIDENT &amp; C.E.O.</td>\n",
       "      <td>10000.00</td>\n",
       "    </tr>\n",
       "    <tr>\n",
       "      <th>19939</th>\n",
       "      <td>VICE PRESIDENT</td>\n",
       "      <td>5414.31</td>\n",
       "    </tr>\n",
       "    <tr>\n",
       "      <th>5951</th>\n",
       "      <td>INFORMATION REQUESTED PER BEST EFFORTS</td>\n",
       "      <td>5000.00</td>\n",
       "    </tr>\n",
       "    <tr>\n",
       "      <th>14337</th>\n",
       "      <td>MANAGING  PARTNER</td>\n",
       "      <td>5000.00</td>\n",
       "    </tr>\n",
       "    <tr>\n",
       "      <th rowspan=\"5\" valign=\"top\">Santorum, Rick</th>\n",
       "      <th>450926</th>\n",
       "      <td>NaN</td>\n",
       "      <td>5000.00</td>\n",
       "    </tr>\n",
       "    <tr>\n",
       "      <th>456342</th>\n",
       "      <td>HOMEMAKER</td>\n",
       "      <td>3000.00</td>\n",
       "    </tr>\n",
       "    <tr>\n",
       "      <th>458905</th>\n",
       "      <td>HOMEMAKER</td>\n",
       "      <td>2500.00</td>\n",
       "    </tr>\n",
       "    <tr>\n",
       "      <th>456072</th>\n",
       "      <td>HOMEMAKER</td>\n",
       "      <td>2500.00</td>\n",
       "    </tr>\n",
       "    <tr>\n",
       "      <th>456095</th>\n",
       "      <td>RETIRED</td>\n",
       "      <td>2500.00</td>\n",
       "    </tr>\n",
       "  </tbody>\n",
       "</table>\n",
       "<p>65 rows × 2 columns</p>\n",
       "</div>"
      ],
      "text/plain": [
       "                                                            contbr_occupation  \\\n",
       "cand_nm                                                                         \n",
       "Bachmann, Michelle             514665                       GOVERNMENT MEMBER   \n",
       "                               512441                                  FARMER   \n",
       "                               514071                                   SALES   \n",
       "                               516481                                 RETIRED   \n",
       "                               516480                                 RETIRED   \n",
       "Cain, Herman                   478807                   INFORMATION REQUESTED   \n",
       "                               475327                                     CFO   \n",
       "                               472387                                     CEO   \n",
       "                               472774                   INFORMATION REQUESTED   \n",
       "                               462251                   INFORMATION REQUESTED   \n",
       "Gingrich, Newt                 488731                                 RETIRED   \n",
       "                               496693                EXECUTIVE VICE PRESIDENT   \n",
       "                               487594                                 RETIRED   \n",
       "                               486806                               EXECUTIVE   \n",
       "                               503525                 OILFIELD WATER TRANSFER   \n",
       "Huntsman, Jon                  518904                   INVESTMENT MANAGEMENT   \n",
       "                               521582  INFORMATION REQUESTED PER BEST EFFORTS   \n",
       "                               521155                                 FINANCE   \n",
       "                               519065                               HOMEMAKER   \n",
       "                               518946                           SELF-EMPLOYED   \n",
       "Johnson, Gary Earl             361664                                 RETIRED   \n",
       "                               361171              NO RESPONSE BY FEB 22 2012   \n",
       "                               361190                                     CFO   \n",
       "                               361681                                 RETIRED   \n",
       "                               361186                      OPERATIONS MANAGER   \n",
       "McCotter, Thaddeus G           518503                               HOMEMAKER   \n",
       "                               518488                              GOVERNMENT   \n",
       "                               518531                      PRODUCTION COMPANY   \n",
       "                               518505                                 FINANCE   \n",
       "                               518494                               EXECUTIVE   \n",
       "...                                                                       ...   \n",
       "Paul, Ron                      373256                                     LAW   \n",
       "                               410394                                  CLERGY   \n",
       "                               388203                                    NONE   \n",
       "                               364223                                 RETIRED   \n",
       "                               433181                                ENGINEER   \n",
       "Pawlenty, Timothy              358179                      INVESTMENT MANAGER   \n",
       "                               359299                                     CEO   \n",
       "                               357214  INFORMATION REQUESTED PER BEST EFFORTS   \n",
       "                               358537                      PRESIDENT & C.E.O.   \n",
       "                               359005                         GENERAL MANAGER   \n",
       "Perry, Rick                    527700                               PRESIDENT   \n",
       "                               536040  INFORMATION REQUESTED PER BEST EFFORTS   \n",
       "                               526354                                     CEO   \n",
       "                               525084                               EXECUTIVE   \n",
       "                               531278                              CONSULTANT   \n",
       "Roemer, Charles E. 'Buddy' III 353444                                 RETIRED   \n",
       "                               353577                         INSURANCE AGENT   \n",
       "                               353119                                ATTORNEY   \n",
       "                               353581                                     CPA   \n",
       "                               353808                   INFORMATION REQUESTED   \n",
       "Romney, Mitt                   35412                                      NaN   \n",
       "                               56140                       PRESIDENT & C.E.O.   \n",
       "                               19939                           VICE PRESIDENT   \n",
       "                               5951    INFORMATION REQUESTED PER BEST EFFORTS   \n",
       "                               14337                        MANAGING  PARTNER   \n",
       "Santorum, Rick                 450926                                     NaN   \n",
       "                               456342                               HOMEMAKER   \n",
       "                               458905                               HOMEMAKER   \n",
       "                               456072                               HOMEMAKER   \n",
       "                               456095                                 RETIRED   \n",
       "\n",
       "                                       contb_receipt_amt  \n",
       "cand_nm                                                   \n",
       "Bachmann, Michelle             514665            3022.00  \n",
       "                               512441            2500.00  \n",
       "                               514071            2500.00  \n",
       "                               516481            2500.00  \n",
       "                               516480            2500.00  \n",
       "Cain, Herman                   478807           10000.00  \n",
       "                               475327            5200.00  \n",
       "                               472387            5000.00  \n",
       "                               472774            5000.00  \n",
       "                               462251            5000.00  \n",
       "Gingrich, Newt                 488731            5100.00  \n",
       "                               496693            5000.00  \n",
       "                               487594            5000.00  \n",
       "                               486806            5000.00  \n",
       "                               503525            5000.00  \n",
       "Huntsman, Jon                  518904            5000.00  \n",
       "                               521582            5000.00  \n",
       "                               521155            5000.00  \n",
       "                               519065            5000.00  \n",
       "                               518946            5000.00  \n",
       "Johnson, Gary Earl             361664            2500.00  \n",
       "                               361171            2500.00  \n",
       "                               361190            2500.00  \n",
       "                               361681            2500.00  \n",
       "                               361186            2500.00  \n",
       "McCotter, Thaddeus G           518503            4000.00  \n",
       "                               518488            2500.00  \n",
       "                               518531            2400.00  \n",
       "                               518505            2000.00  \n",
       "                               518494            1500.00  \n",
       "...                                                  ...  \n",
       "Paul, Ron                      373256            5000.00  \n",
       "                               410394            3000.00  \n",
       "                               388203            2500.00  \n",
       "                               364223            2500.00  \n",
       "                               433181            2500.00  \n",
       "Pawlenty, Timothy              358179           10000.00  \n",
       "                               359299           10000.00  \n",
       "                               357214           10000.00  \n",
       "                               358537           10000.00  \n",
       "                               359005           10000.00  \n",
       "Perry, Rick                    527700           10000.00  \n",
       "                               536040            5000.00  \n",
       "                               526354            5000.00  \n",
       "                               525084            5000.00  \n",
       "                               531278            5000.00  \n",
       "Roemer, Charles E. 'Buddy' III 353444             200.00  \n",
       "                               353577             200.00  \n",
       "                               353119             200.00  \n",
       "                               353581             200.00  \n",
       "                               353808             200.00  \n",
       "Romney, Mitt                   35412            12700.00  \n",
       "                               56140            10000.00  \n",
       "                               19939             5414.31  \n",
       "                               5951              5000.00  \n",
       "                               14337             5000.00  \n",
       "Santorum, Rick                 450926            5000.00  \n",
       "                               456342            3000.00  \n",
       "                               458905            2500.00  \n",
       "                               456072            2500.00  \n",
       "                               456095            2500.00  \n",
       "\n",
       "[65 rows x 2 columns]"
      ]
     },
     "execution_count": 128,
     "metadata": {},
     "output_type": "execute_result"
    }
   ],
   "source": [
    "rst = fec.groupby('cand_nm')['contbr_occupation','contb_receipt_amt'].apply(top5_donor)\n",
    "rst"
   ]
  },
  {
   "cell_type": "code",
   "execution_count": 46,
   "metadata": {},
   "outputs": [
    {
     "data": {
      "text/html": [
       "<div>\n",
       "<table border=\"1\" class=\"dataframe\">\n",
       "  <thead>\n",
       "    <tr style=\"text-align: right;\">\n",
       "      <th></th>\n",
       "      <th>contbr_occupation</th>\n",
       "      <th>contb_receipt_amt</th>\n",
       "    </tr>\n",
       "  </thead>\n",
       "  <tbody>\n",
       "    <tr>\n",
       "      <th>37406</th>\n",
       "      <td>PRESIDENT</td>\n",
       "      <td>1522751.99</td>\n",
       "    </tr>\n",
       "    <tr>\n",
       "      <th>34625</th>\n",
       "      <td>ATTORNEY</td>\n",
       "      <td>3662610.21</td>\n",
       "    </tr>\n",
       "    <tr>\n",
       "      <th>36317</th>\n",
       "      <td>HOMEMAKER</td>\n",
       "      <td>5442013.48</td>\n",
       "    </tr>\n",
       "    <tr>\n",
       "      <th>36411</th>\n",
       "      <td>INFORMATION REQUESTED PER BEST EFFORTS</td>\n",
       "      <td>6394753.06</td>\n",
       "    </tr>\n",
       "    <tr>\n",
       "      <th>37910</th>\n",
       "      <td>RETIRED</td>\n",
       "      <td>6483596.24</td>\n",
       "    </tr>\n",
       "  </tbody>\n",
       "</table>\n",
       "</div>"
      ],
      "text/plain": [
       "                            contbr_occupation  contb_receipt_amt\n",
       "37406                               PRESIDENT         1522751.99\n",
       "34625                                ATTORNEY         3662610.21\n",
       "36317                               HOMEMAKER         5442013.48\n",
       "36411  INFORMATION REQUESTED PER BEST EFFORTS         6394753.06\n",
       "37910                                 RETIRED         6483596.24"
      ]
     },
     "execution_count": 46,
     "metadata": {},
     "output_type": "execute_result"
    }
   ],
   "source": [
    "rst.loc['Romney, Mitt']"
   ]
  }
 ],
 "metadata": {
  "kernelspec": {
   "display_name": "Python 3",
   "language": "python",
   "name": "python3"
  },
  "language_info": {
   "codemirror_mode": {
    "name": "ipython",
    "version": 3
   },
   "file_extension": ".py",
   "mimetype": "text/x-python",
   "name": "python",
   "nbconvert_exporter": "python",
   "pygments_lexer": "ipython3",
   "version": "3.5.2"
  }
 },
 "nbformat": 4,
 "nbformat_minor": 1
}
