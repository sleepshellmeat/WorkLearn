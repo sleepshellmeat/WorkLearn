{
 "cells": [
  {
   "cell_type": "code",
   "execution_count": 49,
   "metadata": {
    "collapsed": true
   },
   "outputs": [],
   "source": [
    "import numpy as np\n",
    "import pandas as pd\n",
    "%matplotlib inline"
   ]
  },
  {
   "cell_type": "code",
   "execution_count": 2,
   "metadata": {
    "collapsed": true
   },
   "outputs": [],
   "source": [
    "nasa = pd.read_table('./nasa.txt')"
   ]
  },
  {
   "cell_type": "code",
   "execution_count": 32,
   "metadata": {},
   "outputs": [
    {
     "data": {
      "text/plain": [
       "(8583, 21)"
      ]
     },
     "execution_count": 32,
     "metadata": {},
     "output_type": "execute_result"
    }
   ],
   "source": [
    "nasa.shape"
   ]
  },
  {
   "cell_type": "code",
   "execution_count": 3,
   "metadata": {
    "scrolled": false
   },
   "outputs": [
    {
     "data": {
      "text/html": [
       "<div>\n",
       "<table border=\"1\" class=\"dataframe\">\n",
       "  <thead>\n",
       "    <tr style=\"text-align: right;\">\n",
       "      <th></th>\n",
       "      <th>会员ID</th>\n",
       "      <th>姓名</th>\n",
       "      <th>性别</th>\n",
       "      <th>年龄</th>\n",
       "      <th>身高</th>\n",
       "      <th>学历</th>\n",
       "      <th>婚否</th>\n",
       "      <th>所在地</th>\n",
       "      <th>星座</th>\n",
       "      <th>职业</th>\n",
       "      <th>...</th>\n",
       "      <th>愿意/可能前往</th>\n",
       "      <th>服务收费/支付能力</th>\n",
       "      <th>伴游经验</th>\n",
       "      <th>服务内容/需求服务</th>\n",
       "      <th>伴游心情/其他说明</th>\n",
       "      <th>最方便联系时间</th>\n",
       "      <th>联系电话</th>\n",
       "      <th>Email</th>\n",
       "      <th>博客</th>\n",
       "      <th>QQ</th>\n",
       "    </tr>\n",
       "  </thead>\n",
       "  <tbody>\n",
       "    <tr>\n",
       "      <th>0</th>\n",
       "      <td>127740</td>\n",
       "      <td>1小姐</td>\n",
       "      <td>女</td>\n",
       "      <td>22</td>\n",
       "      <td>166</td>\n",
       "      <td>本科</td>\n",
       "      <td>未婚</td>\n",
       "      <td>合肥</td>\n",
       "      <td>山羊座</td>\n",
       "      <td>编辑</td>\n",
       "      <td>...</td>\n",
       "      <td>安徽,浙江,江苏,上海</td>\n",
       "      <td>面议元/天</td>\n",
       "      <td>初次接触</td>\n",
       "      <td>商务伴游,私人伴游,交友伴游,景点伴游</td>\n",
       "      <td>本人今年22岁，半年前大学毕业，平时在上海工作，放假时回安徽。有意可以联系我哦。另外我是大叔...</td>\n",
       "      <td>0:00—23:00</td>\n",
       "      <td>15755106787</td>\n",
       "      <td>1718560307@qq.com</td>\n",
       "      <td>http://www.banyou.com/</td>\n",
       "      <td>1718560307</td>\n",
       "    </tr>\n",
       "    <tr>\n",
       "      <th>1</th>\n",
       "      <td>88548</td>\n",
       "      <td>n小姐</td>\n",
       "      <td>女</td>\n",
       "      <td>22</td>\n",
       "      <td>162</td>\n",
       "      <td>本科</td>\n",
       "      <td>未婚</td>\n",
       "      <td>合肥</td>\n",
       "      <td>山羊座</td>\n",
       "      <td>在校学生</td>\n",
       "      <td>...</td>\n",
       "      <td>安徽,合肥</td>\n",
       "      <td>面议元/天</td>\n",
       "      <td>初次接触</td>\n",
       "      <td>私人伴游</td>\n",
       "      <td>希望游客素质比较好，相互尊重，出言不逊者请勿扰。比较好奇，没试过。通过连接看到的，所以就注册...</td>\n",
       "      <td>8:00—23:00</td>\n",
       "      <td>未认证暂不开放或已设置成永久保密</td>\n",
       "      <td>2574230157@qq.com</td>\n",
       "      <td>http://www.banyou.com/</td>\n",
       "      <td>2574230157</td>\n",
       "    </tr>\n",
       "    <tr>\n",
       "      <th>2</th>\n",
       "      <td>31122</td>\n",
       "      <td>张小姐</td>\n",
       "      <td>女</td>\n",
       "      <td>24</td>\n",
       "      <td>166</td>\n",
       "      <td>本科</td>\n",
       "      <td>未婚</td>\n",
       "      <td>合肥</td>\n",
       "      <td>双鱼座</td>\n",
       "      <td>行政</td>\n",
       "      <td>...</td>\n",
       "      <td>安徽,合肥</td>\n",
       "      <td>面议元/天</td>\n",
       "      <td>初次接触</td>\n",
       "      <td>私人伴游</td>\n",
       "      <td>我大学毕业时间不长，有点孤单，希望多认识一些朋友！希望认识全国各地的朋友，希望能带来一些快乐</td>\n",
       "      <td>8:00—23:00</td>\n",
       "      <td>15023283174</td>\n",
       "      <td>271943774@qq.com</td>\n",
       "      <td>http://www.tripby.net/</td>\n",
       "      <td>271943774</td>\n",
       "    </tr>\n",
       "    <tr>\n",
       "      <th>3</th>\n",
       "      <td>51934</td>\n",
       "      <td>雷小姐</td>\n",
       "      <td>女</td>\n",
       "      <td>21</td>\n",
       "      <td>166</td>\n",
       "      <td>本科</td>\n",
       "      <td>未婚</td>\n",
       "      <td>铜陵</td>\n",
       "      <td>处女座</td>\n",
       "      <td>办公室职员</td>\n",
       "      <td>...</td>\n",
       "      <td>安徽,铜陵,马鞍山,芜湖,安庆,合肥</td>\n",
       "      <td>面议元/天</td>\n",
       "      <td>初次接触</td>\n",
       "      <td>学生伴游,商务伴游,私人伴游,交友伴游,景点伴游</td>\n",
       "      <td>我是一个年轻、有活力、性格开朗、有正当职业的女性。因经济原因，所以兼职。最好是景点伴游或者商...</td>\n",
       "      <td>8:00—20:00</td>\n",
       "      <td>18256271009</td>\n",
       "      <td>641946814@qq.com</td>\n",
       "      <td>http://www.tripby.net/</td>\n",
       "      <td>641946814</td>\n",
       "    </tr>\n",
       "    <tr>\n",
       "      <th>4</th>\n",
       "      <td>55171</td>\n",
       "      <td>h小姐</td>\n",
       "      <td>女</td>\n",
       "      <td>26</td>\n",
       "      <td>160</td>\n",
       "      <td>大专</td>\n",
       "      <td>未婚</td>\n",
       "      <td>铜陵</td>\n",
       "      <td>处女座</td>\n",
       "      <td>办公室职员</td>\n",
       "      <td>...</td>\n",
       "      <td>安徽</td>\n",
       "      <td>面议元/天</td>\n",
       "      <td>初次接触</td>\n",
       "      <td>私人伴游,交友伴游</td>\n",
       "      <td>我是刚注册的,我也喜欢旅游,所以希望能交个朋友来开始开心的旅程.</td>\n",
       "      <td>8:00—22:00</td>\n",
       "      <td>13655626954</td>\n",
       "      <td>cherubhe@126.com</td>\n",
       "      <td>NaN</td>\n",
       "      <td>1632914093</td>\n",
       "    </tr>\n",
       "  </tbody>\n",
       "</table>\n",
       "<p>5 rows × 21 columns</p>\n",
       "</div>"
      ],
      "text/plain": [
       "     会员ID   姓名 性别  年龄   身高  学历  婚否 所在地   星座     职业     ...      \\\n",
       "0  127740  1小姐  女  22  166  本科  未婚  合肥  山羊座     编辑     ...       \n",
       "1   88548  n小姐  女  22  162  本科  未婚  合肥  山羊座   在校学生     ...       \n",
       "2   31122  张小姐  女  24  166  本科  未婚  合肥  双鱼座     行政     ...       \n",
       "3   51934  雷小姐  女  21  166  本科  未婚  铜陵  处女座  办公室职员     ...       \n",
       "4   55171  h小姐  女  26  160  大专  未婚  铜陵  处女座  办公室职员     ...       \n",
       "\n",
       "              愿意/可能前往 服务收费/支付能力  伴游经验                 服务内容/需求服务  \\\n",
       "0         安徽,浙江,江苏,上海     面议元/天  初次接触       商务伴游,私人伴游,交友伴游,景点伴游   \n",
       "1               安徽,合肥     面议元/天  初次接触                      私人伴游   \n",
       "2               安徽,合肥     面议元/天  初次接触                      私人伴游   \n",
       "3  安徽,铜陵,马鞍山,芜湖,安庆,合肥     面议元/天  初次接触  学生伴游,商务伴游,私人伴游,交友伴游,景点伴游   \n",
       "4                  安徽     面议元/天  初次接触                 私人伴游,交友伴游   \n",
       "\n",
       "                                           伴游心情/其他说明     最方便联系时间  \\\n",
       "0  本人今年22岁，半年前大学毕业，平时在上海工作，放假时回安徽。有意可以联系我哦。另外我是大叔...  0:00—23:00   \n",
       "1  希望游客素质比较好，相互尊重，出言不逊者请勿扰。比较好奇，没试过。通过连接看到的，所以就注册...  8:00—23:00   \n",
       "2     我大学毕业时间不长，有点孤单，希望多认识一些朋友！希望认识全国各地的朋友，希望能带来一些快乐  8:00—23:00   \n",
       "3  我是一个年轻、有活力、性格开朗、有正当职业的女性。因经济原因，所以兼职。最好是景点伴游或者商...  8:00—20:00   \n",
       "4                   我是刚注册的,我也喜欢旅游,所以希望能交个朋友来开始开心的旅程.  8:00—22:00   \n",
       "\n",
       "               联系电话              Email                      博客          QQ  \n",
       "0       15755106787  1718560307@qq.com  http://www.banyou.com/  1718560307  \n",
       "1  未认证暂不开放或已设置成永久保密  2574230157@qq.com  http://www.banyou.com/  2574230157  \n",
       "2       15023283174   271943774@qq.com  http://www.tripby.net/   271943774  \n",
       "3       18256271009   641946814@qq.com  http://www.tripby.net/   641946814  \n",
       "4       13655626954   cherubhe@126.com                     NaN  1632914093  \n",
       "\n",
       "[5 rows x 21 columns]"
      ]
     },
     "execution_count": 3,
     "metadata": {},
     "output_type": "execute_result"
    }
   ],
   "source": [
    "nasa.head(1)"
   ]
  },
  {
   "cell_type": "markdown",
   "metadata": {},
   "source": [
    "身高是字符串类型"
   ]
  },
  {
   "cell_type": "code",
   "execution_count": 20,
   "metadata": {},
   "outputs": [
    {
     "data": {
      "text/plain": [
       "'166'"
      ]
     },
     "execution_count": 20,
     "metadata": {},
     "output_type": "execute_result"
    }
   ],
   "source": [
    "nasa['身高'][0]"
   ]
  },
  {
   "cell_type": "markdown",
   "metadata": {},
   "source": [
    "转换身高为float类型"
   ]
  },
  {
   "cell_type": "code",
   "execution_count": 26,
   "metadata": {
    "collapsed": true
   },
   "outputs": [],
   "source": [
    "def str2float(s):\n",
    "    try:\n",
    "        return float(s)\n",
    "    except:\n",
    "        return np.nan"
   ]
  },
  {
   "cell_type": "code",
   "execution_count": 27,
   "metadata": {
    "collapsed": true
   },
   "outputs": [],
   "source": [
    "nasa['身高'] = nasa['身高'].map(str2float)"
   ]
  },
  {
   "cell_type": "markdown",
   "metadata": {},
   "source": [
    "查看有多少身高为nan"
   ]
  },
  {
   "cell_type": "code",
   "execution_count": 41,
   "metadata": {
    "scrolled": true
   },
   "outputs": [
    {
     "data": {
      "text/plain": [
       "30"
      ]
     },
     "execution_count": 41,
     "metadata": {},
     "output_type": "execute_result"
    }
   ],
   "source": [
    "nasa['身高'].isnull().sum()"
   ]
  },
  {
   "cell_type": "markdown",
   "metadata": {},
   "source": [
    "查看具体哪些行身高为nan"
   ]
  },
  {
   "cell_type": "code",
   "execution_count": 35,
   "metadata": {},
   "outputs": [
    {
     "data": {
      "text/plain": [
       "Int64Index([  60, 1938, 2078, 2090, 3020, 3071, 3097, 3210, 3357, 3434, 3510,\n",
       "            4219, 4326, 4351, 4358, 4530, 5012, 6626, 6818, 6876, 7227, 7239,\n",
       "            7280, 7536, 7581, 8058, 8130, 8218, 8376, 8401],\n",
       "           dtype='int64')"
      ]
     },
     "execution_count": 35,
     "metadata": {},
     "output_type": "execute_result"
    }
   ],
   "source": [
    "nasa[nasa['身高'].isnull()].index"
   ]
  },
  {
   "cell_type": "markdown",
   "metadata": {},
   "source": [
    "去除身高为NaN的行"
   ]
  },
  {
   "cell_type": "code",
   "execution_count": 37,
   "metadata": {
    "collapsed": true
   },
   "outputs": [],
   "source": [
    "nasa2 = nasa.drop(nasa[nasa['身高'].isnull()].index)"
   ]
  },
  {
   "cell_type": "markdown",
   "metadata": {},
   "source": [
    "查看剩余多少行"
   ]
  },
  {
   "cell_type": "code",
   "execution_count": 38,
   "metadata": {
    "scrolled": true
   },
   "outputs": [
    {
     "data": {
      "text/plain": [
       "(8553, 21)"
      ]
     },
     "execution_count": 38,
     "metadata": {},
     "output_type": "execute_result"
    }
   ],
   "source": [
    "nasa2.shape"
   ]
  },
  {
   "cell_type": "markdown",
   "metadata": {},
   "source": [
    "各个年龄段的身高分布"
   ]
  },
  {
   "cell_type": "code",
   "execution_count": 42,
   "metadata": {
    "scrolled": true
   },
   "outputs": [
    {
     "data": {
      "text/plain": [
       "<pandas.core.groupby.SeriesGroupBy object at 0x7f74e92df5f8>"
      ]
     },
     "execution_count": 42,
     "metadata": {},
     "output_type": "execute_result"
    }
   ],
   "source": [
    "result = nasa2.groupby('年龄')['身高']\n",
    "result"
   ]
  },
  {
   "cell_type": "markdown",
   "metadata": {},
   "source": [
    "得到各个年龄段的身高平均值"
   ]
  },
  {
   "cell_type": "code",
   "execution_count": 44,
   "metadata": {
    "collapsed": true
   },
   "outputs": [],
   "source": [
    "def height_mean(group):\n",
    "    if group.size<100:\n",
    "        return np.nan\n",
    "    else:\n",
    "        return group.mean()"
   ]
  },
  {
   "cell_type": "code",
   "execution_count": 46,
   "metadata": {
    "collapsed": true
   },
   "outputs": [],
   "source": [
    "height_result = result.apply(height_mean)"
   ]
  },
  {
   "cell_type": "code",
   "execution_count": 52,
   "metadata": {
    "scrolled": true
   },
   "outputs": [
    {
     "data": {
      "text/plain": [
       "年龄\n",
       "18    165.087379\n",
       "19    165.672083\n",
       "20    165.266309\n",
       "21    165.242826\n",
       "22    164.815152\n",
       "23    164.814229\n",
       "24    164.810878\n",
       "25    164.374016\n",
       "26    163.788060\n",
       "27    164.546939\n",
       "28    164.225166\n",
       "29    165.022556\n",
       "30    164.441441\n",
       "31    165.495495\n",
       "32    166.033613\n",
       "33    165.901961\n",
       "34           NaN\n",
       "35           NaN\n",
       "36           NaN\n",
       "37           NaN\n",
       "Name: 身高, dtype: float64"
      ]
     },
     "execution_count": 52,
     "metadata": {},
     "output_type": "execute_result"
    }
   ],
   "source": [
    "height_result.head(20)"
   ]
  },
  {
   "cell_type": "markdown",
   "metadata": {},
   "source": [
    "画图"
   ]
  },
  {
   "cell_type": "code",
   "execution_count": 54,
   "metadata": {
    "scrolled": true
   },
   "outputs": [
    {
     "data": {
      "text/plain": [
       "<matplotlib.axes._subplots.AxesSubplot at 0x7f74e96a25f8>"
      ]
     },
     "execution_count": 54,
     "metadata": {},
     "output_type": "execute_result"
    },
    {
     "data": {
      "image/png": "[encoded data removed]",
      "text/plain": [
       "<matplotlib.figure.Figure at 0x7f74e9689208>"
      ]
     },
     "metadata": {},
     "output_type": "display_data"
    }
   ],
   "source": [
    "height_result[0:20].plot()"
   ]
  },
  {
   "cell_type": "markdown",
   "metadata": {},
   "source": [
    "各个年龄段人数"
   ]
  },
  {
   "cell_type": "code",
   "execution_count": 7,
   "metadata": {},
   "outputs": [
    {
     "data": {
      "text/plain": [
       "21    1359\n",
       "22    1320\n",
       "20    1119\n",
       "23    1012\n",
       "24     809\n",
       "19     677\n",
       "25     508\n",
       "26     335\n",
       "27     245\n",
       "18     206\n",
       "28     151\n",
       "29     133\n",
       "32     119\n",
       "31     111\n",
       "30     111\n",
       "33     102\n",
       "34      84\n",
       "39      30\n",
       "年龄      30\n",
       "35      28\n",
       "38      25\n",
       "37      21\n",
       "36      21\n",
       "40      14\n",
       "58       3\n",
       "55       2\n",
       "52       2\n",
       "42       2\n",
       "46       1\n",
       "43       1\n",
       "62       1\n",
       "47       1\n",
       "Name: 年龄, dtype: int64"
      ]
     },
     "execution_count": 7,
     "metadata": {},
     "output_type": "execute_result"
    }
   ],
   "source": [
    "nasa['年龄'].value_counts()"
   ]
  },
  {
   "cell_type": "code",
   "execution_count": null,
   "metadata": {
    "collapsed": true
   },
   "outputs": [],
   "source": []
  }
 ],
 "metadata": {
  "kernelspec": {
   "display_name": "Python 3",
   "language": "python",
   "name": "python3"
  },
  "language_info": {
   "codemirror_mode": {
    "name": "ipython",
    "version": 3
   },
   "file_extension": ".py",
   "mimetype": "text/x-python",
   "name": "python",
   "nbconvert_exporter": "python",
   "pygments_lexer": "ipython3",
   "version": "3.5.2"
  }
 },
 "nbformat": 4,
 "nbformat_minor": 2
}
