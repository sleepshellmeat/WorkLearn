{
 "cells": [
  {
   "cell_type": "markdown",
   "metadata": {},
   "source": [
    "# 目录\n",
    "## 一、启动程序\n",
    "## 二、IPython的帮助文档\n",
    "### 1. 使用help()\n",
    "### 2. 使用?\n",
    "### 3. tab自动补全\n",
    "## 三、IPython魔法命令\n",
    "### 1. 运行外部Python文件\n",
    "### 2. 运行计时\n",
    "### 3. 查看当前会话中的所有变量与函数\n",
    "### 4. 执行Linux指令\n",
    "### 5. 更多魔法命令\n",
    "## 四、IPython输入输出历史\n",
    "### 1. 可使用In/Out调用输入输出历史\n",
    "### 2. 使用下划线表示输出\n"
   ]
  },
  {
   "cell_type": "markdown",
   "metadata": {},
   "source": [
    "\n",
    "## 一、启动程序\n"
   ]
  },
  {
   "cell_type": "markdown",
   "metadata": {},
   "source": [
    "\n",
    "\n",
    "\n",
    "执行以下命令：\n",
    ">jupyter notebook\n",
    "\n",
    "[NotebookApp] Serving notebooks from local directory: /home/nanfengpo\n",
    "\n",
    "[NotebookApp] 0 active kernels \n",
    "\n",
    "[NotebookApp] The IPython Notebook is running at: http://localhost:8888/\n",
    "\n",
    "[NotebookApp] Use Control-C to stop this server and shut down all kernels (twice to skip confirmation).\n",
    "\n",
    "注意以下几点：\n",
    "- 打开地址为当前bash的目录，默认的根目录\n",
    "- 浏览器地址为http://localhost:8888/\n",
    "- 通过control -C终止jupyter程序"
   ]
  },
  {
   "cell_type": "markdown",
   "metadata": {},
   "source": [
    "几个基本操作：\n",
    "- 双击D：删除当前cell\n",
    "- 单击M：转为markdown文档\n",
    "- markdown文档下运行变为预览模式"
   ]
  },
  {
   "cell_type": "markdown",
   "metadata": {},
   "source": [
    "## 二、IPython的帮助文档"
   ]
  },
  {
   "cell_type": "markdown",
   "metadata": {},
   "source": [
    "### 1. 使用help()"
   ]
  },
  {
   "cell_type": "markdown",
   "metadata": {},
   "source": [
    "通过以下命令来获得帮助文档：\n",
    ">help(len)\n",
    "\n",
    "Help on built-in function len in module builtins:\n",
    "\n",
    "len(obj, /)\n",
    "    Return the number of items in a container."
   ]
  },
  {
   "cell_type": "code",
   "execution_count": null,
   "metadata": {
    "collapsed": true
   },
   "outputs": [],
   "source": []
  },
  {
   "cell_type": "markdown",
   "metadata": {},
   "source": [
    "### 2. 使用?"
   ]
  },
  {
   "cell_type": "markdown",
   "metadata": {},
   "source": [
    "或者使用问号：\n",
    ">len?"
   ]
  },
  {
   "cell_type": "markdown",
   "metadata": {},
   "source": []
  },
  {
   "cell_type": "markdown",
   "metadata": {},
   "source": [
    "还可以应用到自定义的变量和自定义的函数上来返回帮助文档\n",
    "\n",
    "此外，使用两个??可以把函数的源代码显示出来"
   ]
  },
  {
   "cell_type": "code",
   "execution_count": 7,
   "metadata": {},
   "outputs": [],
   "source": []
  },
  {
   "cell_type": "code",
   "execution_count": 2,
   "metadata": {
    "collapsed": true
   },
   "outputs": [],
   "source": [
    "#随意定义一个方法"
   ]
  },
  {
   "cell_type": "markdown",
   "metadata": {},
   "source": [
    "### 3. tab自动补全"
   ]
  },
  {
   "cell_type": "markdown",
   "metadata": {},
   "source": [
    "敲击tab键能自动补全\n",
    ">L.<TAB>"
   ]
  },
  {
   "cell_type": "markdown",
   "metadata": {},
   "source": [
    "也可以在import的时候自动补全\n",
    ">import nu<TAB>"
   ]
  },
  {
   "cell_type": "code",
   "execution_count": 10,
   "metadata": {
    "collapsed": true
   },
   "outputs": [],
   "source": []
  },
  {
   "cell_type": "markdown",
   "metadata": {
    "collapsed": true
   },
   "source": [
    "## 三、IPython魔法命令"
   ]
  },
  {
   "cell_type": "markdown",
   "metadata": {},
   "source": [
    "### 1. 运行外部Python文件"
   ]
  },
  {
   "cell_type": "markdown",
   "metadata": {},
   "source": [
    "使用下面命令运行外部python文件（默认是当前目录，最好加上绝对路径）\n",
    "> %run *.py\n",
    "    \n",
    "例如在当前目录下有一个myscript.py文件：\n",
    "\n",
    "def square(x):\n",
    "    \"\"\"square a number\"\"\"\n",
    "    return x ** 2\n",
    "\n",
    "for N in range(1, 4):\n",
    "    print(N, \"squared is\", square(N))\n"
   ]
  },
  {
   "cell_type": "markdown",
   "metadata": {},
   "source": [
    "我们可以通过下面命令执行它：\n",
    "> %run myscript.py"
   ]
  },
  {
   "cell_type": "markdown",
   "metadata": {},
   "source": [
    "尤其要注意的是，当我们使用魔法命令执行了一个外部文件时，该文件的函数就能在当前会话中使用\n",
    ">square(5)"
   ]
  },
  {
   "cell_type": "code",
   "execution_count": null,
   "metadata": {},
   "outputs": [],
   "source": []
  },
  {
   "cell_type": "code",
   "execution_count": 12,
   "metadata": {
    "scrolled": true
   },
   "outputs": [],
   "source": [
    "#调用外部文件中定义的方法\n"
   ]
  },
  {
   "cell_type": "markdown",
   "metadata": {},
   "source": [
    "### 2. 运行计时"
   ]
  },
  {
   "cell_type": "markdown",
   "metadata": {
    "collapsed": true
   },
   "source": [
    "用下面命令计算statement的运行时间：\n",
    "> %time statement\n"
   ]
  },
  {
   "cell_type": "markdown",
   "metadata": {},
   "source": [
    "用下面命令计算statement的平均运行时间：   \n",
    "> %timeit statement\n",
    "\n",
    "timeit会多次运行statement，最后得到一个更为精准的预期运行时间"
   ]
  },
  {
   "cell_type": "markdown",
   "metadata": {},
   "source": [
    "可以使用两个百分号来测试多行代码的平均运行时间：\n",
    "\n",
    "`\n",
    "%%timeit\n",
    "\n",
    "statement1\n",
    "\n",
    "statement2\n",
    "\n",
    "statement3\n",
    "\n",
    "`"
   ]
  },
  {
   "cell_type": "markdown",
   "metadata": {},
   "source": [
    "记住：\n",
    "- %time一般用于耗时长的代码段\n",
    "- %timeit一般用于耗时短的代码段"
   ]
  },
  {
   "cell_type": "code",
   "execution_count": null,
   "metadata": {
    "collapsed": true
   },
   "outputs": [],
   "source": []
  },
  {
   "cell_type": "code",
   "execution_count": null,
   "metadata": {
    "scrolled": true
   },
   "outputs": [],
   "source": []
  },
  {
   "cell_type": "markdown",
   "metadata": {},
   "source": [
    "### 3. 查看当前会话中的所有变量与函数"
   ]
  },
  {
   "cell_type": "markdown",
   "metadata": {},
   "source": [
    "快速查看当前会话的所有变量与函数名称：\n",
    ">%who"
   ]
  },
  {
   "cell_type": "code",
   "execution_count": null,
   "metadata": {
    "scrolled": true
   },
   "outputs": [],
   "source": []
  },
  {
   "cell_type": "markdown",
   "metadata": {},
   "source": [
    "查看当前会话的所有变量与函数名称的详细信息：\n",
    ">%whos"
   ]
  },
  {
   "cell_type": "code",
   "execution_count": null,
   "metadata": {},
   "outputs": [],
   "source": []
  },
  {
   "cell_type": "markdown",
   "metadata": {},
   "source": [
    "返回一个字符串列表，里面元素是当前会话的所有变量与函数名称：\n",
    ">%who_ls"
   ]
  },
  {
   "cell_type": "code",
   "execution_count": null,
   "metadata": {},
   "outputs": [],
   "source": []
  },
  {
   "cell_type": "markdown",
   "metadata": {},
   "source": [
    "### 4. 执行Linux指令"
   ]
  },
  {
   "cell_type": "markdown",
   "metadata": {},
   "source": [
    "Linux指令：\n",
    "\n",
    "$ echo \"hello world\"             # echo is like Python's print function\n",
    "hello world\n",
    "\n",
    "$ pwd                            # pwd = print working directory\n",
    "/home/jake                             # this is the \"path\" that we're sitting in\n",
    "\n",
    "$ ls                             # ls = list working directory contents\n",
    "notebooks  projects \n",
    "\n",
    "\n",
    "$ mkdir mm\n",
    "/home/jake/projects\n",
    "\n",
    "$touch txt\n",
    "!touch /home/nanfengpo/Desktop/xx/hello.txt\n",
    "\n",
    "在Linux指令之前加上  <font size = 5 color = green>!</font>，即可在ipython当中执行Linux指令。\n",
    "\n",
    "注意会将标准输出以字符串形式返回"
   ]
  },
  {
   "cell_type": "code",
   "execution_count": null,
   "metadata": {},
   "outputs": [],
   "source": []
  },
  {
   "cell_type": "markdown",
   "metadata": {},
   "source": [
    "### 5. 更多魔法命令"
   ]
  },
  {
   "cell_type": "markdown",
   "metadata": {},
   "source": [
    "列出所有魔法命令\n",
    ">lsmagic"
   ]
  },
  {
   "cell_type": "markdown",
   "metadata": {},
   "source": [
    "查看魔法命令的文档:\n",
    "使用?"
   ]
  },
  {
   "cell_type": "code",
   "execution_count": null,
   "metadata": {
    "collapsed": true
   },
   "outputs": [],
   "source": []
  },
  {
   "cell_type": "markdown",
   "metadata": {
    "collapsed": true
   },
   "source": [
    "## 四、notebook的快捷键"
   ]
  },
  {
   "cell_type": "markdown",
   "metadata": {},
   "source": [
    "### 1、命令模式 "
   ]
  },
  {
   "cell_type": "markdown",
   "metadata": {},
   "source": [
    "\t• Enter : 转入编辑模式 \n",
    "    • Shift-Enter : 运行本单元，选中下个单元\n",
    "    • Ctrl-Enter : 运行本单元，选中下个单元\n",
    "    • Alt-Enter : 运行本单元，在下面插入一单元"
   ]
  },
  {
   "cell_type": "code",
   "execution_count": null,
   "metadata": {
    "collapsed": true
   },
   "outputs": [],
   "source": []
  },
  {
   "cell_type": "markdown",
   "metadata": {},
   "source": [
    "    • Y : 单元转入代码状态\n",
    "\t• M :单元转入markdown状态"
   ]
  },
  {
   "cell_type": "code",
   "execution_count": null,
   "metadata": {
    "collapsed": true
   },
   "outputs": [],
   "source": []
  },
  {
   "cell_type": "markdown",
   "metadata": {},
   "source": [
    "\t• A : 在上方插入新单元\n",
    "    • B : 在下方插入新单元"
   ]
  },
  {
   "cell_type": "code",
   "execution_count": null,
   "metadata": {
    "collapsed": true
   },
   "outputs": [],
   "source": []
  },
  {
   "cell_type": "markdown",
   "metadata": {},
   "source": [
    "### 2、编辑模式 ( Enter 键启动)"
   ]
  },
  {
   "cell_type": "markdown",
   "metadata": {},
   "source": [
    "\t• Tab : 代码补全或缩进\n",
    "    • Shift-Tab : 提示"
   ]
  },
  {
   "cell_type": "markdown",
   "metadata": {},
   "source": [
    "\t• Ctrl-A : 全选\n",
    "\t• Ctrl-Z : 复原"
   ]
  },
  {
   "cell_type": "markdown",
   "metadata": {
    "collapsed": true
   },
   "source": [
    "============================================\n",
    "\n",
    "练习：\n",
    "\n",
    "在Jupyter上实现以前的代码，包括：\n",
    "\n",
    "- 简单代码\n",
    "- 分支\n",
    "- 循环\n",
    "- 函数\n",
    "- 类\n",
    "\n",
    "============================================"
   ]
  },
  {
   "cell_type": "code",
   "execution_count": null,
   "metadata": {
    "collapsed": true,
    "scrolled": true
   },
   "outputs": [],
   "source": []
  }
 ],
 "metadata": {
  "anaconda-cloud": {},
  "kernelspec": {
   "display_name": "Python 3",
   "language": "python",
   "name": "python3"
  },
  "language_info": {
   "codemirror_mode": {
    "name": "ipython",
    "version": 3
   },
   "file_extension": ".py",
   "mimetype": "text/x-python",
   "name": "python",
   "nbconvert_exporter": "python",
   "pygments_lexer": "ipython3",
   "version": "3.5.2"
  }
 },
 "nbformat": 4,
 "nbformat_minor": 1
}
