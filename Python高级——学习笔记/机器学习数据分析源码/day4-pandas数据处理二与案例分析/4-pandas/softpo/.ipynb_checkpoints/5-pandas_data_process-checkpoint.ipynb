{
 "cells": [
  {
   "cell_type": "markdown",
   "metadata": {},
   "source": [
    "<font color = red size = 5>立此为证</font>"
   ]
  },
  {
   "cell_type": "markdown",
   "metadata": {},
   "source": [
    "             语文\t数学\tPython  \n",
    "        \n",
    "张三\t期中\t  50   132\t 10  \n",
    "\n",
    "\n",
    "      期末   117\t 22\t   9  \n",
    "\n",
    "李四\t期中\t  76   113\t 50  \n",
    " \n",
    "     期末\t    8\t23\t  19  \n",
    "\n",
    "活齐  期中\t   2  86    70  \n",
    "\n",
    "      期末    148  50  141  \n"
   ]
  },
  {
   "cell_type": "markdown",
   "metadata": {},
   "source": [
    "# pandas数据处理"
   ]
  },
  {
   "cell_type": "markdown",
   "metadata": {},
   "source": [
    "## 1、删除重复元素"
   ]
  },
  {
   "cell_type": "markdown",
   "metadata": {},
   "source": [
    "使用duplicated()函数检测重复的行，返回元素为布尔类型的Series对象，每个元素对应一行，如果该行不是第一次出现，则元素为True"
   ]
  },
  {
   "cell_type": "code",
   "execution_count": null,
   "metadata": {
    "collapsed": true
   },
   "outputs": [],
   "source": []
  },
  {
   "cell_type": "markdown",
   "metadata": {},
   "source": [
    "使用drop_duplicates()函数删除重复的行"
   ]
  },
  {
   "cell_type": "code",
   "execution_count": null,
   "metadata": {
    "collapsed": true
   },
   "outputs": [],
   "source": []
  },
  {
   "cell_type": "markdown",
   "metadata": {},
   "source": [
    "如果使用pd.concat([df1,df2],axis = 1)生成新的DataFrame，新的df中columns相同，使用duplicate()和drop_duplicates()都会出问题"
   ]
  },
  {
   "cell_type": "code",
   "execution_count": null,
   "metadata": {
    "collapsed": true
   },
   "outputs": [],
   "source": []
  },
  {
   "cell_type": "markdown",
   "metadata": {},
   "source": [
    "## 2. 映射"
   ]
  },
  {
   "cell_type": "markdown",
   "metadata": {},
   "source": [
    "映射的含义：创建一个映射关系列表，把values元素和一个特定的标签或者字符串绑定\n",
    "\n",
    "需要使用字典：\n",
    "\n",
    "`map = {\n",
    "    'label1':'value1',\n",
    "    'label2':'value2',\n",
    "    ...\n",
    "    }\n",
    "`\n",
    "\n",
    "包含三种操作：\n",
    "\n",
    "- replace()函数：替换元素\n",
    "- 最重要：map()函数：新建一列\n",
    "- rename()函数：替换索引"
   ]
  },
  {
   "cell_type": "markdown",
   "metadata": {},
   "source": [
    "### 1) replace()函数：替换元素"
   ]
  },
  {
   "cell_type": "markdown",
   "metadata": {},
   "source": [
    "使用replace()函数，对values进行替换操作"
   ]
  },
  {
   "cell_type": "markdown",
   "metadata": {},
   "source": [
    "首先定义一个字典"
   ]
  },
  {
   "cell_type": "markdown",
   "metadata": {},
   "source": [
    "调用.replace()"
   ]
  },
  {
   "cell_type": "markdown",
   "metadata": {},
   "source": [
    "replace还经常用来替换NaN元素"
   ]
  },
  {
   "cell_type": "code",
   "execution_count": null,
   "metadata": {
    "collapsed": true
   },
   "outputs": [],
   "source": []
  },
  {
   "cell_type": "markdown",
   "metadata": {},
   "source": [
    "============================================\n",
    "\n",
    "练习19：\n",
    "\n",
    "    假设张三李四的课表里有满分的情况，老师认为是作弊，把所有满分的情况（包括150,300分）都记0分，如何实现？\n",
    "\n",
    "============================================"
   ]
  },
  {
   "cell_type": "markdown",
   "metadata": {},
   "source": [
    "### 2) map()函数：新建一列"
   ]
  },
  {
   "cell_type": "markdown",
   "metadata": {},
   "source": [
    "使用map()函数，由已有的列生成一个新列\n",
    "\n",
    "适合处理某一单独的列。"
   ]
  },
  {
   "cell_type": "markdown",
   "metadata": {},
   "source": [
    "仍然是新建一个字典"
   ]
  },
  {
   "cell_type": "markdown",
   "metadata": {},
   "source": [
    "map()函数中可以使用lambda函数"
   ]
  },
  {
   "cell_type": "markdown",
   "metadata": {},
   "source": [
    "transform()和map()类似"
   ]
  },
  {
   "cell_type": "markdown",
   "metadata": {},
   "source": [
    "使用map()函数新建一个新列"
   ]
  },
  {
   "cell_type": "markdown",
   "metadata": {},
   "source": [
    "============================================\n",
    "\n",
    "练习20：\n",
    "\n",
    "    新增两列，分别为张三、李四的成绩状态，如果分数低于90，则为\"failed\"，如果分数高于120，则为\"excellent\"，其他则为\"pass\"\n",
    "    \n",
    "    【提示】使用函数作为map的参数\n",
    "\n",
    "============================================"
   ]
  },
  {
   "cell_type": "markdown",
   "metadata": {},
   "source": [
    "### 3) rename()函数：替换索引"
   ]
  },
  {
   "cell_type": "markdown",
   "metadata": {},
   "source": [
    "仍然是新建一个字典"
   ]
  },
  {
   "cell_type": "markdown",
   "metadata": {},
   "source": [
    "使用rename()函数替换行索引"
   ]
  },
  {
   "cell_type": "markdown",
   "metadata": {},
   "source": [
    "## 3. 异常值检测和过滤"
   ]
  },
  {
   "cell_type": "markdown",
   "metadata": {},
   "source": [
    "使用describe()函数查看每一列的描述性统计量"
   ]
  },
  {
   "cell_type": "code",
   "execution_count": null,
   "metadata": {
    "collapsed": true
   },
   "outputs": [],
   "source": []
  },
  {
   "cell_type": "markdown",
   "metadata": {},
   "source": [
    "使用std()函数可以求得DataFrame对象每一列的标准差"
   ]
  },
  {
   "cell_type": "code",
   "execution_count": null,
   "metadata": {
    "collapsed": true
   },
   "outputs": [],
   "source": []
  },
  {
   "cell_type": "markdown",
   "metadata": {},
   "source": [
    "根据每一列的标准差，对DataFrame元素进行过滤。\n",
    "\n",
    "借助any()函数, 测试是否有True，有一个或以上返回True，反之返回False\n",
    "\n",
    "对每一列应用筛选条件,去除标准差太大的数据"
   ]
  },
  {
   "cell_type": "code",
   "execution_count": null,
   "metadata": {
    "collapsed": true
   },
   "outputs": [],
   "source": []
  },
  {
   "cell_type": "markdown",
   "metadata": {},
   "source": [
    "删除特定索引df.drop(labels,inplace = True)"
   ]
  },
  {
   "cell_type": "markdown",
   "metadata": {},
   "source": [
    "============================================\n",
    "\n",
    "练习21：\n",
    "\n",
    "    新建一个形状为10000*3的标准正态分布的DataFrame(np.random.randn)，去除掉所有满足以下情况的行：其中任一元素绝对值大于3倍标准差\n",
    "\n",
    "============================================"
   ]
  },
  {
   "cell_type": "code",
   "execution_count": null,
   "metadata": {
    "collapsed": true
   },
   "outputs": [],
   "source": []
  },
  {
   "cell_type": "markdown",
   "metadata": {},
   "source": [
    "## 4. 排序"
   ]
  },
  {
   "cell_type": "markdown",
   "metadata": {},
   "source": [
    "使用.take()函数排序\n",
    "\n",
    "可以借助np.random.permutation()函数随机排序"
   ]
  },
  {
   "cell_type": "code",
   "execution_count": null,
   "metadata": {
    "collapsed": true
   },
   "outputs": [],
   "source": []
  },
  {
   "cell_type": "markdown",
   "metadata": {},
   "source": [
    "### 随机抽样"
   ]
  },
  {
   "cell_type": "markdown",
   "metadata": {},
   "source": [
    "当DataFrame规模足够大时，直接使用np.random.randint()函数，就配合take()函数实现随机抽样"
   ]
  },
  {
   "cell_type": "code",
   "execution_count": null,
   "metadata": {
    "collapsed": true
   },
   "outputs": [],
   "source": []
  },
  {
   "cell_type": "markdown",
   "metadata": {},
   "source": [
    "============================================\n",
    "练习22：\n",
    "\n",
    "   假设有张三李四王老五的期中考试成绩ddd2，对着三名同学随机排序\n",
    "\n",
    "============================================"
   ]
  },
  {
   "cell_type": "markdown",
   "metadata": {},
   "source": [
    "## 5. 数据聚合【重点】"
   ]
  },
  {
   "cell_type": "markdown",
   "metadata": {},
   "source": [
    "数据聚合是数据处理的最后一步，通常是要使每一个数组生成一个单一的数值。\n",
    "\n",
    "数据分类处理：\n",
    "\n",
    " - 分组：先把数据分为几组\n",
    " - 用函数处理：为不同组的数据应用不同的函数以转换数据\n",
    " - 合并：把不同组得到的结果合并起来\n",
    " \n",
    "数据分类处理的核心：\n",
    "     groupby()函数"
   ]
  },
  {
   "cell_type": "code",
   "execution_count": null,
   "metadata": {
    "collapsed": true
   },
   "outputs": [],
   "source": []
  },
  {
   "cell_type": "markdown",
   "metadata": {
    "collapsed": true
   },
   "source": [
    "如果想使用color列索引，计算price1的均值，可以先获取到price1列，然后再调用groupby函数，用参数指定color这一列"
   ]
  },
  {
   "cell_type": "code",
   "execution_count": null,
   "metadata": {
    "collapsed": true
   },
   "outputs": [],
   "source": []
  },
  {
   "cell_type": "markdown",
   "metadata": {
    "collapsed": true
   },
   "source": [
    "使用.groups属性查看各行的分组情况："
   ]
  },
  {
   "cell_type": "code",
   "execution_count": null,
   "metadata": {
    "collapsed": true
   },
   "outputs": [],
   "source": []
  },
  {
   "cell_type": "markdown",
   "metadata": {},
   "source": [
    "============================================\n",
    "\n",
    "练习23：\n",
    "\n",
    "   假设菜市场张大妈在卖菜，有以下属性：\n",
    "   \n",
    "   菜品(item)：萝卜，白菜，辣椒，冬瓜\n",
    "   \n",
    "   颜色(color)：白，青，红\n",
    "   \n",
    "   重量(weight)\n",
    "   \n",
    "   价格(price)\n",
    "   \n",
    "1. 要求以属性作为列索引，新建一个ddd\n",
    "2. 对ddd进行聚合操作，求出颜色为白色的价格总和\n",
    "3. 对ddd进行聚合操作，求出萝卜的所有重量(包括白萝卜，胡萝卜，青萝卜）以及平均价格\n",
    "4. 使用merge合并总重量及平均价格\n",
    "\n",
    "============================================"
   ]
  },
  {
   "cell_type": "code",
   "execution_count": null,
   "metadata": {
    "collapsed": true
   },
   "outputs": [],
   "source": []
  },
  {
   "cell_type": "markdown",
   "metadata": {
    "collapsed": true
   },
   "source": [
    "## 6.0 高级数据聚合"
   ]
  },
  {
   "cell_type": "markdown",
   "metadata": {},
   "source": [
    "可以使用pd.merge()函数将聚合操作的计算结果添加到df的每一行  \n",
    "使用groupby分组后调用加和等函数进行运算，让后最后可以调用add_prefix()，来修改列名"
   ]
  },
  {
   "cell_type": "markdown",
   "metadata": {},
   "source": [
    "### 可以使用transform和apply实现相同功能"
   ]
  },
  {
   "cell_type": "markdown",
   "metadata": {
    "collapsed": true
   },
   "source": [
    "在transform或者apply中传入函数即可"
   ]
  },
  {
   "cell_type": "code",
   "execution_count": null,
   "metadata": {
    "collapsed": true
   },
   "outputs": [],
   "source": []
  },
  {
   "cell_type": "markdown",
   "metadata": {
    "collapsed": true
   },
   "source": [
    "### transform()与apply()函数还能传入一个函数或者lambda\n",
    "\n",
    "`\n",
    "df = DataFrame({'color':['white','black','white','white','black','black'],\n",
    "               'status':['up','up','down','down','down','up'],\n",
    "               'value1':[12.33,14.55,22.34,27.84,23.40,18.33],\n",
    "               'value2':[11.23,31.80,29.99,31.18,18.25,22.44]})\n",
    "`"
   ]
  },
  {
   "cell_type": "markdown",
   "metadata": {},
   "source": [
    "apply的操作对象，也就是传给lambda的参数是整列的数组"
   ]
  },
  {
   "cell_type": "markdown",
   "metadata": {
    "collapsed": true
   },
   "source": [
    "============================================\n",
    "\n",
    "练习24：\n",
    "\n",
    "   使用transform与apply实现练习23的功能\n",
    "\n",
    "============================================"
   ]
  },
  {
   "cell_type": "code",
   "execution_count": null,
   "metadata": {
    "collapsed": true
   },
   "outputs": [],
   "source": []
  }
 ],
 "metadata": {
  "kernelspec": {
   "display_name": "Python 3",
   "language": "python",
   "name": "python3"
  },
  "language_info": {
   "codemirror_mode": {
    "name": "ipython",
    "version": 3
   },
   "file_extension": ".py",
   "mimetype": "text/x-python",
   "name": "python",
   "nbconvert_exporter": "python",
   "pygments_lexer": "ipython3",
   "version": "3.5.2"
  }
 },
 "nbformat": 4,
 "nbformat_minor": 1
}
